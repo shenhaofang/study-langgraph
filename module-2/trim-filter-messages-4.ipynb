{
 "cells": [
  {
   "cell_type": "markdown",
   "id": "fb0ebaf1",
   "metadata": {},
   "source": [
    "[![Open in Colab](https://colab.research.google.com/assets/colab-badge.svg)](https://colab.research.google.com/github/langchain-ai/langchain-academy/blob/main/module-2/trim-filter-messages.ipynb) [![Open in LangChain Academy](https://cdn.prod.website-files.com/65b8cd72835ceeacd4449a53/66e9eba12c7b7688aa3dbb5e_LCA-badge-green.svg)](https://academy.langchain.com/courses/take/intro-to-langgraph/lessons/58239435-lesson-4-trim-and-filter-messages)"
   ]
  },
  {
   "cell_type": "markdown",
   "id": "c52ea2f9-03ff-4647-b782-46867ebed04e",
   "metadata": {},
   "source": [
    "# 消息过滤和裁剪\n",
    "\n",
    "## 回顾\n",
    "\n",
    "现在，我们对一些事情有了一个更深入的了解: \n",
    "\n",
    "* 怎样自定义图的状态模式\n",
    "* 怎样定义自定义状态reducers\n",
    "* 怎样使用多图状态模式\n",
    "\n",
    "## 目标\n",
    "\n",
    "现在，我们可以开始使用这些概念在 LangGraph中断模型!\n",
    " \n",
    "在接下来的几节课中，我们将构建一个具有长期记忆的聊天机器人。\n",
    "\n",
    "因为我们的机器人将使用消息，让我们首先详细讨论一下在图状态中处理消息的高级方法。"
   ]
  },
  {
   "cell_type": "code",
   "execution_count": null,
   "id": "d5197aba-5d46-421b-ae3b-4e3034edcfda",
   "metadata": {},
   "outputs": [],
   "source": [
    "%%capture --no-stderr\n",
    "%pip install --quiet -U langchain_core langgraph langchain_openai"
   ]
  },
  {
   "cell_type": "code",
   "execution_count": 1,
   "id": "768dc606-d5f2-468d-96ea-910b264e0f8a",
   "metadata": {},
   "outputs": [],
   "source": [
    "import os, getpass\n",
    "\n",
    "def _set_env(var: str):\n",
    "    if not os.environ.get(var):\n",
    "        os.environ[var] = getpass.getpass(f\"{var}: \")\n",
    "\n",
    "_set_env(\"OPENAI_API_KEY\")"
   ]
  },
  {
   "cell_type": "code",
   "execution_count": 1,
   "id": "b6c19885",
   "metadata": {},
   "outputs": [],
   "source": [
    "# 我没有openai的api key，所以使用qwen的openai兼容接口，需要设置qwen的api key和base url，我选择从配置文件.yml中读取\n",
    "import yaml\n",
    "\n",
    "with open('../.yml', 'r') as file:\n",
    "    config = yaml.safe_load(file)\n",
    "\n",
    "# 获取配置信息(以.yml_example的例子)\n",
    "qwen_config = config['llm']['qwen']"
   ]
  },
  {
   "cell_type": "markdown",
   "id": "8b64d8d3-e4ac-4961-bdc0-688825eb5864",
   "metadata": {},
   "source": [
    "我们将使用 [LangSmith](https://docs.smith.langchain.com/) 来 [追踪](https://docs.smith.langchain.com/concepts/tracing)。\n",
    "\n",
    "我们记录到一个项目 `langchain-study`.。"
   ]
  },
  {
   "cell_type": "code",
   "execution_count": 3,
   "id": "dd020c79",
   "metadata": {},
   "outputs": [],
   "source": [
    "import os\n",
    "smith_config = config['langsmith']\n",
    "# _set_env(\"LANGCHAIN_API_KEY\")\n",
    "os.environ[\"LANGCHAIN_API_KEY\"] = smith_config['key']\n",
    "os.environ[\"LANGCHAIN_TRACING_V2\"] = \"true\"\n",
    "os.environ[\"LANGCHAIN_PROJECT\"] = \"langchain-study\""
   ]
  },
  {
   "cell_type": "markdown",
   "id": "72f3fc90-58b6-4f7f-897e-dddf6ae532c7",
   "metadata": {},
   "source": [
    "## 消息作为状态\n",
    "\n",
    "首先，让我们定义一些消息。"
   ]
  },
  {
   "cell_type": "code",
   "execution_count": 4,
   "id": "cf11a463-e27a-4a05-b41d-64882e38edca",
   "metadata": {},
   "outputs": [
    {
     "name": "stdout",
     "output_type": "stream",
     "text": [
      "==================================\u001b[1m Ai Message \u001b[0m==================================\n",
      "Name: Bot\n",
      "\n",
      "So you said you were researching ocean mammals?\n",
      "================================\u001b[1m Human Message \u001b[0m=================================\n",
      "Name: Lance\n",
      "\n",
      "Yes, I know about whales. But what others should I learn about?\n"
     ]
    }
   ],
   "source": [
    "from pprint import pprint\n",
    "from langchain_core.messages import AIMessage, HumanMessage\n",
    "messages = [AIMessage(f\"So you said you were researching ocean mammals?\", name=\"Bot\")]\n",
    "messages.append(HumanMessage(f\"Yes, I know about whales. But what others should I learn about?\", name=\"Lance\"))\n",
    "\n",
    "for m in messages:\n",
    "    m.pretty_print()"
   ]
  },
  {
   "cell_type": "markdown",
   "id": "b814adcb-6bf9-4b75-be11-e59f933fbd0c",
   "metadata": {},
   "source": [
    "回忆我们可以将他们传递给一个聊天模型。"
   ]
  },
  {
   "cell_type": "code",
   "execution_count": 5,
   "id": "4712e288-e622-48a2-ad3f-a52f65f3ab08",
   "metadata": {},
   "outputs": [
    {
     "data": {
      "text/plain": [
       "AIMessage(content='Great! If you\\'re already familiar with whales, there are several other fascinating ocean mammals to explore. Here are a few:\\n\\n1. **Dolphins**: These highly intelligent and social animals belong to the same family as whales (Cetacea). They are known for their playful behavior and complex communication systems. There are many species of dolphins, including the bottlenose dolphin, which is one of the most well-known.\\n\\n2. **Porpoises**: Often confused with dolphins, porpoises are smaller and have a more rounded head. They are also part of the Cetacea family. The harbor porpoise and the vaquita (a critically endangered species) are examples of porpoises.\\n\\n3. **Seals and Sea Lions**: These are pinnipeds, which means \"fin-footed.\" Seals and sea lions are semi-aquatic, spending time both in water and on land. Seals are generally less vocal and more streamlined, while sea lions are more vocal and have visible ear flaps. Examples include the harbor seal, the California sea lion, and the Steller sea lion.\\n\\n4. **Walruses**: These large, tusked pinnipeds are known for their distinctive appearance and social behavior. They are found in the Arctic and sub-Arctic regions and are known for their long tusks, which they use for various purposes, including breaking through ice and defending themselves.\\n\\n5. **Manatees and Dugongs**: These gentle, herbivorous marine mammals are often referred to as \"sea cows\" due to their slow, grazing behavior. Manatees are found in the Caribbean and the Gulf of Mexico, while dugongs are found in the Indo-West Pacific region.\\n\\n6. **Polar Bears**: While not fully aquatic, polar bears are considered marine mammals because they spend a significant amount of time in the water and rely heavily on the marine environment for their survival. They are excellent swimmers and are adapted to life in the Arctic.\\n\\n7. **Sea Otters**: These are the smallest marine mammals and are known for their thick fur, which they meticulously groom. Sea otters play a crucial role in their ecosystem by controlling the populations of sea urchins and other invertebrates.\\n\\nEach of these groups has unique characteristics and plays important roles in their respective ecosystems. Learning about them can provide a broader understanding of marine life and the challenges they face.', additional_kwargs={'refusal': None}, response_metadata={'token_usage': {'completion_tokens': 490, 'prompt_tokens': 42, 'total_tokens': 532, 'completion_tokens_details': None, 'prompt_tokens_details': {'audio_tokens': None, 'cached_tokens': 0}}, 'model_name': 'qwen-max', 'system_fingerprint': None, 'id': 'chatcmpl-d1bd334f-45c1-9d60-9887-df4002abea4a', 'finish_reason': 'stop', 'logprobs': None}, id='run-06dc420b-12ac-40a3-8843-d2afdde336bf-0', usage_metadata={'input_tokens': 42, 'output_tokens': 490, 'total_tokens': 532, 'input_token_details': {'cache_read': 0}, 'output_token_details': {}})"
      ]
     },
     "execution_count": 5,
     "metadata": {},
     "output_type": "execute_result"
    }
   ],
   "source": [
    "from langchain_openai import ChatOpenAI\n",
    "llm = ChatOpenAI(model=\"qwen-max\", base_url=qwen_config['base_url'], api_key=qwen_config['api_key'], temperature=0.5)\n",
    "llm.invoke(messages)"
   ]
  },
  {
   "cell_type": "markdown",
   "id": "fbd1dab8-0af8-4621-8264-ce65065f76ec",
   "metadata": {},
   "source": [
    "我们可以在一个简单的使用 `MessagesState` 的图中运行我们的聊天模型。"
   ]
  },
  {
   "cell_type": "code",
   "execution_count": 6,
   "id": "bbd8c39c-633b-4176-9cc6-8318e42bb5dd",
   "metadata": {},
   "outputs": [
    {
     "data": {
      "image/png": "[encoded data removed]",
      "text/plain": [
       "<IPython.core.display.Image object>"
      ]
     },
     "metadata": {},
     "output_type": "display_data"
    }
   ],
   "source": [
    "from IPython.display import Image, display\n",
    "from langgraph.graph import MessagesState\n",
    "from langgraph.graph import StateGraph, START, END\n",
    "\n",
    "# Node\n",
    "def chat_model_node(state: MessagesState):\n",
    "    return {\"messages\": llm.invoke(state[\"messages\"])}\n",
    "\n",
    "# Build graph\n",
    "builder = StateGraph(MessagesState)\n",
    "builder.add_node(\"chat_model\", chat_model_node)\n",
    "builder.add_edge(START, \"chat_model\")\n",
    "builder.add_edge(\"chat_model\", END)\n",
    "graph = builder.compile()\n",
    "\n",
    "# View\n",
    "display(Image(graph.get_graph().draw_mermaid_png()))"
   ]
  },
  {
   "cell_type": "code",
   "execution_count": 7,
   "id": "3a5a3e4a-ccfd-4d14-81f1-f0de6e11a1e4",
   "metadata": {},
   "outputs": [
    {
     "name": "stdout",
     "output_type": "stream",
     "text": [
      "==================================\u001b[1m Ai Message \u001b[0m==================================\n",
      "Name: Bot\n",
      "\n",
      "So you said you were researching ocean mammals?\n",
      "================================\u001b[1m Human Message \u001b[0m=================================\n",
      "Name: Lance\n",
      "\n",
      "Yes, I know about whales. But what others should I learn about?\n",
      "==================================\u001b[1m Ai Message \u001b[0m==================================\n",
      "\n",
      "Great! If you're already familiar with whales, there are several other fascinating ocean mammals you might want to explore. Here are a few:\n",
      "\n",
      "1. **Dolphins**: Highly intelligent and social, dolphins are known for their playful behavior and complex communication. There are many species of dolphins, including the bottlenose dolphin, which is one of the most well-known.\n",
      "\n",
      "2. **Porpoises**: Often confused with dolphins, porpoises are smaller and have a more rounded head. The harbor porpoise and the vaquita (which is critically endangered) are examples of porpoises.\n",
      "\n",
      "3. **Seals and Sea Lions**: These are pinnipeds, which means \"fin-footed.\" Seals and sea lions are both marine mammals, but they have some key differences. Seals lack external ears and move on land by flopping on their bellies, while sea lions have small external ear flaps and can rotate their hind flippers to walk on land.\n",
      "\n",
      "4. **Walruses**: Known for their large tusks and whiskers, walruses are found in the Arctic. They are very social animals and are known for their vocalizations and ability to dive deep into the ocean.\n",
      "\n",
      "5. **Manatees and Dugongs**: These gentle, herbivorous marine mammals are often referred to as \"sea cows\" due to their slow, grazing behavior. Manatees are found in the Caribbean and along the coasts of Florida, while dugongs are found in the Indo-West Pacific.\n",
      "\n",
      "6. **Polar Bears**: While not fully aquatic, polar bears are considered marine mammals because they spend a significant amount of time in the water and rely on the ocean for their primary food source, which is seals.\n",
      "\n",
      "7. **Sea Otters**: These are the smallest marine mammals and are known for their use of tools, such as rocks, to break open shellfish. They are found in the coastal waters of the Pacific Ocean.\n",
      "\n",
      "Each of these groups has unique characteristics and plays important roles in their respective ecosystems. Learning about them can provide a broader understanding of the diversity and complexity of marine life.\n"
     ]
    }
   ],
   "source": [
    "output = graph.invoke({'messages': messages})\n",
    "for m in output['messages']:\n",
    "    m.pretty_print()"
   ]
  },
  {
   "cell_type": "markdown",
   "id": "34c33e63-1ef4-412d-bb10-6a1b9e5b35a7",
   "metadata": {},
   "source": [
    "## Reducer\n",
    "\n",
    "当我们与消息打交道时，一个实际的挑战是管理长时间进行的对话。\n",
    "\n",
    "如果我们不小心，长时间的对话将导致高令牌使用和延迟，因为我们向模型传递的消息列表会不断增长。\n",
    "\n",
    "我们有几种方法区解决这个问题。\n",
    "\n",
    "首先，回忆我们看到的使用 `RemoveMessage` 和 `add_messages` reducer 的小技巧。"
   ]
  },
  {
   "cell_type": "code",
   "execution_count": 8,
   "id": "222c6bc5-bb0e-4a43-80f5-c8ec38d99f3a",
   "metadata": {},
   "outputs": [
    {
     "data": {
      "image/png": "[encoded data removed]",
      "text/plain": [
       "<IPython.core.display.Image object>"
      ]
     },
     "metadata": {},
     "output_type": "display_data"
    }
   ],
   "source": [
    "from langchain_core.messages import RemoveMessage\n",
    "\n",
    "# Nodes\n",
    "def filter_messages(state: MessagesState):\n",
    "    # Delete all but the 2 most recent messages\n",
    "    delete_messages = [RemoveMessage(id=m.id) for m in state[\"messages\"][:-2]]\n",
    "    return {\"messages\": delete_messages}\n",
    "\n",
    "def chat_model_node(state: MessagesState):    \n",
    "    return {\"messages\": [llm.invoke(state[\"messages\"])]}\n",
    "\n",
    "# Build graph\n",
    "builder = StateGraph(MessagesState)\n",
    "builder.add_node(\"filter\", filter_messages)\n",
    "builder.add_node(\"chat_model\", chat_model_node)\n",
    "builder.add_edge(START, \"filter\")\n",
    "builder.add_edge(\"filter\", \"chat_model\")\n",
    "builder.add_edge(\"chat_model\", END)\n",
    "graph = builder.compile()\n",
    "\n",
    "# View\n",
    "display(Image(graph.get_graph().draw_mermaid_png()))"
   ]
  },
  {
   "cell_type": "code",
   "execution_count": 9,
   "id": "95a7c2cc-54ce-43e7-9a90-abf37827d709",
   "metadata": {},
   "outputs": [
    {
     "name": "stdout",
     "output_type": "stream",
     "text": [
      "==================================\u001b[1m Ai Message \u001b[0m==================================\n",
      "Name: Bot\n",
      "\n",
      "So you said you were researching ocean mammals?\n",
      "================================\u001b[1m Human Message \u001b[0m=================================\n",
      "Name: Lance\n",
      "\n",
      "Yes, I know about whales. But what others should I learn about?\n",
      "==================================\u001b[1m Ai Message \u001b[0m==================================\n",
      "\n",
      "Great! If you're already familiar with whales, there are several other fascinating ocean mammals you might want to explore. Here are a few:\n",
      "\n",
      "1. **Dolphins**: Highly intelligent and social, dolphins are known for their playful behavior and complex communication. There are many species of dolphins, such as the bottlenose dolphin, which is one of the most well-known.\n",
      "\n",
      "2. **Porpoises**: Often confused with dolphins, porpoises are actually a different family of marine mammals. They are generally smaller and have a more rounded head compared to dolphins. The harbor porpoise is one of the most common species.\n",
      "\n",
      "3. **Seals and Sea Lions (Pinnipeds)**: These are semi-aquatic mammals that can be found in both polar and temperate regions. Seals and sea lions are distinguished by their ability to move on land and in water. Some notable species include the harbor seal, the California sea lion, and the walrus, which is the largest pinniped.\n",
      "\n",
      "4. **Manatees and Dugongs (Sirenia)**: These gentle, herbivorous creatures are often referred to as \"sea cows\" due to their slow, grazing behavior. Manatees are found in freshwater and coastal areas, while dugongs are primarily marine. Both are endangered due to habitat loss and human activities.\n",
      "\n",
      "5. **Sea Otters**: Known for their playful behavior and use of tools (like rocks to crack open shellfish), sea otters are the heaviest members of the weasel family. They play a crucial role in maintaining the health of kelp forests by preying on sea urchins.\n",
      "\n",
      "6. **Polar Bears**: While not fully aquatic, polar bears are considered marine mammals because they spend a significant amount of time in the water hunting for seals. They are adapted to life in the Arctic and are excellent swimmers.\n",
      "\n",
      "Each of these groups has unique characteristics and plays important roles in their respective ecosystems. Learning about them can provide a broader understanding of the diversity and complexity of marine life.\n"
     ]
    }
   ],
   "source": [
    "# Message list with a preamble\n",
    "messages = [AIMessage(\"Hi.\", name=\"Bot\", id=\"1\")]\n",
    "messages.append(HumanMessage(\"Hi.\", name=\"Lance\", id=\"2\"))\n",
    "messages.append(AIMessage(\"So you said you were researching ocean mammals?\", name=\"Bot\", id=\"3\"))\n",
    "messages.append(HumanMessage(\"Yes, I know about whales. But what others should I learn about?\", name=\"Lance\", id=\"4\"))\n",
    "\n",
    "# Invoke\n",
    "output = graph.invoke({'messages': messages})\n",
    "for m in output['messages']:\n",
    "    m.pretty_print()"
   ]
  },
  {
   "cell_type": "markdown",
   "id": "f506457d-014b-4fee-a684-e5edfb4b8f0d",
   "metadata": {},
   "source": [
    "## 过滤消息\n",
    "\n",
    "如果你不需要或希望更改图状态，你可以只过滤你传递给聊天模型的消息。\n",
    "\n",
    "例如：仅传递一个过滤后的列表 `llm.invoke(messages[-1:])` 给模型。"
   ]
  },
  {
   "cell_type": "code",
   "execution_count": 10,
   "id": "22d0b904-7cd6-486b-8948-105bee3d4683",
   "metadata": {},
   "outputs": [
    {
     "data": {
      "image/png": "[encoded data removed]",
      "text/plain": [
       "<IPython.core.display.Image object>"
      ]
     },
     "metadata": {},
     "output_type": "display_data"
    }
   ],
   "source": [
    "# Node\n",
    "def chat_model_node(state: MessagesState):\n",
    "    return {\"messages\": [llm.invoke(state[\"messages\"][-1:])]}\n",
    "\n",
    "# Build graph\n",
    "builder = StateGraph(MessagesState)\n",
    "builder.add_node(\"chat_model\", chat_model_node)\n",
    "builder.add_edge(START, \"chat_model\")\n",
    "builder.add_edge(\"chat_model\", END)\n",
    "graph = builder.compile()\n",
    "\n",
    "# View\n",
    "display(Image(graph.get_graph().draw_mermaid_png()))"
   ]
  },
  {
   "cell_type": "markdown",
   "id": "6f58c6fc-532f-418d-b70a-cfcb3307daf5",
   "metadata": {},
   "source": [
    "让我们将已存在的消息列表，追加上LLM的回复，并追加一个后续问题。"
   ]
  },
  {
   "cell_type": "code",
   "execution_count": 11,
   "id": "16956015-1dbe-4108-89b5-4209b68b51ca",
   "metadata": {},
   "outputs": [],
   "source": [
    "messages.append(output['messages'][-1])\n",
    "messages.append(HumanMessage(f\"Tell me more about Narwhals!\", name=\"Lance\"))"
   ]
  },
  {
   "cell_type": "code",
   "execution_count": 12,
   "id": "85563415-c085-46a8-a4ac-155df798c54e",
   "metadata": {},
   "outputs": [
    {
     "name": "stdout",
     "output_type": "stream",
     "text": [
      "==================================\u001b[1m Ai Message \u001b[0m==================================\n",
      "Name: Bot\n",
      "\n",
      "Hi.\n",
      "================================\u001b[1m Human Message \u001b[0m=================================\n",
      "Name: Lance\n",
      "\n",
      "Hi.\n",
      "==================================\u001b[1m Ai Message \u001b[0m==================================\n",
      "Name: Bot\n",
      "\n",
      "So you said you were researching ocean mammals?\n",
      "================================\u001b[1m Human Message \u001b[0m=================================\n",
      "Name: Lance\n",
      "\n",
      "Yes, I know about whales. But what others should I learn about?\n",
      "==================================\u001b[1m Ai Message \u001b[0m==================================\n",
      "\n",
      "Great! If you're already familiar with whales, there are several other fascinating ocean mammals you might want to explore. Here are a few:\n",
      "\n",
      "1. **Dolphins**: Highly intelligent and social, dolphins are known for their playful behavior and complex communication. There are many species of dolphins, such as the bottlenose dolphin, which is one of the most well-known.\n",
      "\n",
      "2. **Porpoises**: Often confused with dolphins, porpoises are actually a different family of marine mammals. They are generally smaller and have a more rounded head compared to dolphins. The harbor porpoise is one of the most common species.\n",
      "\n",
      "3. **Seals and Sea Lions (Pinnipeds)**: These are semi-aquatic mammals that can be found in both polar and temperate regions. Seals and sea lions are distinguished by their ability to move on land and in water. Some notable species include the harbor seal, the California sea lion, and the walrus, which is the largest pinniped.\n",
      "\n",
      "4. **Manatees and Dugongs (Sirenia)**: These gentle, herbivorous creatures are often referred to as \"sea cows\" due to their slow, grazing behavior. Manatees are found in freshwater and coastal areas, while dugongs are primarily marine. Both are endangered due to habitat loss and human activities.\n",
      "\n",
      "5. **Sea Otters**: Known for their playful behavior and use of tools (like rocks to crack open shellfish), sea otters are the heaviest members of the weasel family. They play a crucial role in maintaining the health of kelp forests by preying on sea urchins.\n",
      "\n",
      "6. **Polar Bears**: While not fully aquatic, polar bears are considered marine mammals because they spend a significant amount of time in the water hunting for seals. They are adapted to life in the Arctic and are excellent swimmers.\n",
      "\n",
      "Each of these groups has unique characteristics and plays important roles in their respective ecosystems. Learning about them can provide a broader understanding of the diversity and complexity of marine life.\n",
      "================================\u001b[1m Human Message \u001b[0m=================================\n",
      "Name: Lance\n",
      "\n",
      "Tell me more about Narwhals!\n"
     ]
    }
   ],
   "source": [
    "for m in messages:\n",
    "    m.pretty_print()"
   ]
  },
  {
   "cell_type": "code",
   "execution_count": 13,
   "id": "23349705-a059-47b5-9760-d8f64e687393",
   "metadata": {},
   "outputs": [
    {
     "name": "stdout",
     "output_type": "stream",
     "text": [
      "==================================\u001b[1m Ai Message \u001b[0m==================================\n",
      "Name: Bot\n",
      "\n",
      "Hi.\n",
      "================================\u001b[1m Human Message \u001b[0m=================================\n",
      "Name: Lance\n",
      "\n",
      "Hi.\n",
      "==================================\u001b[1m Ai Message \u001b[0m==================================\n",
      "Name: Bot\n",
      "\n",
      "So you said you were researching ocean mammals?\n",
      "================================\u001b[1m Human Message \u001b[0m=================================\n",
      "Name: Lance\n",
      "\n",
      "Yes, I know about whales. But what others should I learn about?\n",
      "==================================\u001b[1m Ai Message \u001b[0m==================================\n",
      "\n",
      "Great! If you're already familiar with whales, there are several other fascinating ocean mammals you might want to explore. Here are a few:\n",
      "\n",
      "1. **Dolphins**: Highly intelligent and social, dolphins are known for their playful behavior and complex communication. There are many species of dolphins, such as the bottlenose dolphin, which is one of the most well-known.\n",
      "\n",
      "2. **Porpoises**: Often confused with dolphins, porpoises are actually a different family of marine mammals. They are generally smaller and have a more rounded head compared to dolphins. The harbor porpoise is one of the most common species.\n",
      "\n",
      "3. **Seals and Sea Lions (Pinnipeds)**: These are semi-aquatic mammals that can be found in both polar and temperate regions. Seals and sea lions are distinguished by their ability to move on land and in water. Some notable species include the harbor seal, the California sea lion, and the walrus, which is the largest pinniped.\n",
      "\n",
      "4. **Manatees and Dugongs (Sirenia)**: These gentle, herbivorous creatures are often referred to as \"sea cows\" due to their slow, grazing behavior. Manatees are found in freshwater and coastal areas, while dugongs are primarily marine. Both are endangered due to habitat loss and human activities.\n",
      "\n",
      "5. **Sea Otters**: Known for their playful behavior and use of tools (like rocks to crack open shellfish), sea otters are the heaviest members of the weasel family. They play a crucial role in maintaining the health of kelp forests by preying on sea urchins.\n",
      "\n",
      "6. **Polar Bears**: While not fully aquatic, polar bears are considered marine mammals because they spend a significant amount of time in the water hunting for seals. They are adapted to life in the Arctic and are excellent swimmers.\n",
      "\n",
      "Each of these groups has unique characteristics and plays important roles in their respective ecosystems. Learning about them can provide a broader understanding of the diversity and complexity of marine life.\n",
      "================================\u001b[1m Human Message \u001b[0m=================================\n",
      "Name: Lance\n",
      "\n",
      "Tell me more about Narwhals!\n",
      "==================================\u001b[1m Ai Message \u001b[0m==================================\n",
      "\n",
      "Narwhals are fascinating marine mammals that are often referred to as the \"unicorns of the sea\" due to the long, spiraled tusk that protrudes from the head of males. Here are some interesting facts about narwhals:\n",
      "\n",
      "### Physical Characteristics\n",
      "- **Tusks**: The most distinctive feature of narwhals is their tusk, which is actually an elongated canine tooth. It can grow up to 10 feet (3 meters) long and is found in males, though occasionally in females as well. The tusk is not used for fighting but may play a role in communication, navigation, and sensing environmental changes.\n",
      "- **Size and Appearance**: Narwhals are medium-sized whales, with adults typically measuring between 13 to 18 feet (4 to 5.5 meters) in length and weighing around 1,800 to 3,500 pounds (800 to 1,600 kg). They have a mottled black and white skin pattern, which becomes more speckled as they age.\n",
      "\n",
      "### Habitat and Distribution\n",
      "- **Arctic Waters**: Narwhals are primarily found in the Arctic waters around Canada, Greenland, Russia, and Norway. They prefer deep, ice-covered waters and are well-adapted to living in these cold environments.\n",
      "- **Migration**: They migrate seasonally, moving closer to the coast in summer when the ice recedes and returning to deeper, more ice-covered areas in winter.\n",
      "\n",
      "### Behavior and Diet\n",
      "- **Social Structure**: Narwhals are highly social animals and often travel in groups called pods, which can number from a few individuals to several hundred.\n",
      "- **Diet**: Their primary diet consists of fish, such as cod and halibut, as well as squid and shrimp. They use echolocation to locate their prey in the dark, icy waters.\n",
      "- **Diving Abilities**: Narwhals are known for their exceptional diving abilities. They can dive to depths of over 5,000 feet (1,500 meters) and stay submerged for up to 25 minutes, making them one of the deepest-diving marine mammals.\n",
      "\n",
      "### Conservation Status\n",
      "- **Threats**: Narwhals face several threats, including climate change, which is causing the loss of sea ice and altering their habitat. They are also vulnerable to hunting, pollution, and entanglement in fishing gear.\n",
      "- **Conservation Efforts**: Various organizations and governments are working to protect narwhals through research, monitoring, and the establishment of protected areas. The International Union for Conservation of Nature (IUCN) lists narwhals as \"Near Threatened.\"\n",
      "\n",
      "### Cultural Significance\n",
      "- **Inuit Culture**: Narwhals have significant cultural and economic importance to Inuit communities, who have hunted them for centuries for their meat, skin, and tusks. The tusks are sometimes used in traditional art and crafts.\n",
      "\n",
      "Narwhals are truly unique and captivating creatures, and ongoing research continues to uncover more about their mysterious lives in the Arctic.\n"
     ]
    }
   ],
   "source": [
    "# Invoke, using message filtering\n",
    "output = graph.invoke({'messages': messages})\n",
    "for m in output['messages']:\n",
    "    m.pretty_print()"
   ]
  },
  {
   "cell_type": "markdown",
   "id": "42e1d8d2-e297-4d78-b54c-d12b3c866745",
   "metadata": {},
   "source": [
    "状态中包含所有的消息.\n",
    "\n",
    "但是，让我们看一下 LangSmith 追踪，以查看模型调用只使用了最后一条消息：\n",
    "\n",
    "https://smith.langchain.com/public/2837ad12-c505-4563-8f99-3cadaf368bf2/r/f3491dda-bf2f-44c2-a4bd-a3d035f17727"
   ]
  },
  {
   "cell_type": "markdown",
   "id": "fc40d930-3c1f-47fe-8d2a-ce174873353c",
   "metadata": {},
   "source": [
    "## 消息裁剪\n",
    "\n",
    "另一种方法是基于固定数量的token的[消息裁剪](https://python.langchain.com/v0.2/docs/how_to/trim_messages/#getting-the-last-max_tokens-tokens)。\n",
    "\n",
    "这将限制消息历史记录到指定token的数量。\n",
    "\n",
    "当过滤仅返回智能体之间传递的消息的子集时，裁剪限制了模型响应时可使用的token数量。\n",
    "\n",
    "请参见下边的 `trim_messages` 。"
   ]
  },
  {
   "cell_type": "code",
   "execution_count": 35,
   "id": "2ff99b81-cf03-4cc2-b44f-44829a73e1fd",
   "metadata": {},
   "outputs": [
    {
     "data": {
      "image/png": "[encoded data removed]",
      "text/plain": [
       "<IPython.core.display.Image object>"
      ]
     },
     "metadata": {},
     "output_type": "display_data"
    }
   ],
   "source": [
    "from langchain_core.messages import trim_messages, BaseMessage\n",
    "from typing import List\n",
    "\n",
    "# Node\n",
    "def chat_model_node(state: MessagesState):\n",
    "    messages = trim_messages(\n",
    "            state[\"messages\"],\n",
    "            max_tokens=700,\n",
    "            strategy=\"last\",\n",
    "            # 这里ChatOpenAI作为token计数器实际上并不需要与openai的模型交互，是纯本地计算，但是model仅支持openai的部分模型，所以这里暂时用gpt-4o粗略计算一下（理论上应自己写一个符合qwen情况的token计算器），又由于ChatOpenAI初始化必须有api_key，所以这里随便指定一个\n",
    "            token_counter=ChatOpenAI(model=\"gpt-4o\", api_key=\"no_user_because_local_calculation\"),\n",
    "            allow_partial=False,\n",
    "        )\n",
    "    return {\"messages\": [llm.invoke(messages)]}\n",
    "\n",
    "# Build graph\n",
    "builder = StateGraph(MessagesState)\n",
    "builder.add_node(\"chat_model\", chat_model_node)\n",
    "builder.add_edge(START, \"chat_model\")\n",
    "builder.add_edge(\"chat_model\", END)\n",
    "graph = builder.compile()\n",
    "\n",
    "# View\n",
    "display(Image(graph.get_graph().draw_mermaid_png()))"
   ]
  },
  {
   "cell_type": "code",
   "execution_count": 18,
   "id": "24df63ac-da29-4874-b3df-7e390e97cc8a",
   "metadata": {},
   "outputs": [
    {
     "data": {
      "text/plain": [
       "[AIMessage(content='Hi.', additional_kwargs={}, response_metadata={}, name='Bot', id='1'),\n",
       " HumanMessage(content='Hi.', additional_kwargs={}, response_metadata={}, name='Lance', id='2'),\n",
       " AIMessage(content='So you said you were researching ocean mammals?', additional_kwargs={}, response_metadata={}, name='Bot', id='3'),\n",
       " HumanMessage(content='Yes, I know about whales. But what others should I learn about?', additional_kwargs={}, response_metadata={}, name='Lance', id='4'),\n",
       " AIMessage(content='Great! If you\\'re already familiar with whales, there are several other fascinating ocean mammals you might want to explore. Here are a few:\\n\\n1. **Dolphins**: Highly intelligent and social, dolphins are known for their playful behavior and complex communication. There are many species of dolphins, such as the bottlenose dolphin, which is one of the most well-known.\\n\\n2. **Porpoises**: Often confused with dolphins, porpoises are actually a different family of marine mammals. They are generally smaller and have a more rounded head compared to dolphins. The harbor porpoise is one of the most common species.\\n\\n3. **Seals and Sea Lions (Pinnipeds)**: These are semi-aquatic mammals that can be found in both polar and temperate regions. Seals and sea lions are distinguished by their ability to move on land and in water. Some notable species include the harbor seal, the California sea lion, and the walrus, which is the largest pinniped.\\n\\n4. **Manatees and Dugongs (Sirenia)**: These gentle, herbivorous creatures are often referred to as \"sea cows\" due to their slow, grazing behavior. Manatees are found in freshwater and coastal areas, while dugongs are primarily marine. Both are endangered due to habitat loss and human activities.\\n\\n5. **Sea Otters**: Known for their playful behavior and use of tools (like rocks to crack open shellfish), sea otters are the heaviest members of the weasel family. They play a crucial role in maintaining the health of kelp forests by preying on sea urchins.\\n\\n6. **Polar Bears**: While not fully aquatic, polar bears are considered marine mammals because they spend a significant amount of time in the water hunting for seals. They are adapted to life in the Arctic and are excellent swimmers.\\n\\nEach of these groups has unique characteristics and plays important roles in their respective ecosystems. Learning about them can provide a broader understanding of the diversity and complexity of marine life.', additional_kwargs={'refusal': None}, response_metadata={'token_usage': {'completion_tokens': 414, 'prompt_tokens': 42, 'total_tokens': 456, 'completion_tokens_details': None, 'prompt_tokens_details': {'audio_tokens': None, 'cached_tokens': 0}}, 'model_name': 'qwen-max', 'system_fingerprint': None, 'id': 'chatcmpl-4028c7ef-8a4d-9718-a8cd-2dbecd858956', 'finish_reason': 'stop', 'logprobs': None}, id='run-f9b298b7-4607-45bd-81fa-8d9ef079224c-0', usage_metadata={'input_tokens': 42, 'output_tokens': 414, 'total_tokens': 456, 'input_token_details': {'cache_read': 0}, 'output_token_details': {}}),\n",
       " HumanMessage(content='Tell me more about Narwhals!', additional_kwargs={}, response_metadata={}, name='Lance', id='1188d323-d8a9-4def-8710-88fcc7f4c615'),\n",
       " AIMessage(content='Narwhals are fascinating marine mammals that are often referred to as the \"unicorns of the sea\" due to the long, spiraled tusk that protrudes from the head of males. Here are some interesting facts about narwhals:\\n\\n### Physical Characteristics\\n- **Tusks**: The most distinctive feature of narwhals is their tusk, which is actually an elongated canine tooth. It can grow up to 10 feet (3 meters) long and is found in males, though occasionally in females as well. The tusk is not used for fighting but may play a role in communication, navigation, and sensing environmental changes.\\n- **Size and Appearance**: Narwhals are medium-sized whales, with adults typically measuring between 13 to 18 feet (4 to 5.5 meters) in length and weighing around 1,800 to 3,500 pounds (800 to 1,600 kg). They have a mottled black and white skin pattern, which becomes more speckled as they age.\\n\\n### Habitat and Distribution\\n- **Arctic Waters**: Narwhals are primarily found in the Arctic waters around Canada, Greenland, Russia, and Norway. They prefer deep, ice-covered waters and are well-adapted to living in these cold environments.\\n- **Migration**: They migrate seasonally, moving closer to the coast in summer when the ice recedes and returning to deeper, more ice-covered areas in winter.\\n\\n### Behavior and Diet\\n- **Social Structure**: Narwhals are highly social animals and often travel in groups called pods, which can number from a few individuals to several hundred.\\n- **Diet**: Their primary diet consists of fish, such as cod and halibut, as well as squid and shrimp. They use echolocation to locate their prey in the dark, icy waters.\\n- **Diving Abilities**: Narwhals are known for their exceptional diving abilities. They can dive to depths of over 5,000 feet (1,500 meters) and stay submerged for up to 25 minutes, making them one of the deepest-diving marine mammals.\\n\\n### Conservation Status\\n- **Threats**: Narwhals face several threats, including climate change, which is causing the loss of sea ice and altering their habitat. They are also vulnerable to hunting, pollution, and entanglement in fishing gear.\\n- **Conservation Efforts**: Various organizations and governments are working to protect narwhals through research, monitoring, and the establishment of protected areas. The International Union for Conservation of Nature (IUCN) lists narwhals as \"Near Threatened.\"\\n\\n### Cultural Significance\\n- **Inuit Culture**: Narwhals have significant cultural and economic importance to Inuit communities, who have hunted them for centuries for their meat, skin, and tusks. The tusks are sometimes used in traditional art and crafts.\\n\\nNarwhals are truly unique and captivating creatures, and ongoing research continues to uncover more about their mysterious lives in the Arctic.', additional_kwargs={'refusal': None}, response_metadata={'token_usage': {'completion_tokens': 627, 'prompt_tokens': 16, 'total_tokens': 643, 'completion_tokens_details': None, 'prompt_tokens_details': {'audio_tokens': None, 'cached_tokens': 0}}, 'model_name': 'qwen-max', 'system_fingerprint': None, 'id': 'chatcmpl-4081ae16-d0a0-93d1-bfe5-2cc10150492e', 'finish_reason': 'stop', 'logprobs': None}, id='run-f3491dda-bf2f-44c2-a4bd-a3d035f17727-0', usage_metadata={'input_tokens': 16, 'output_tokens': 627, 'total_tokens': 643, 'input_token_details': {'cache_read': 0}, 'output_token_details': {}}),\n",
       " HumanMessage(content='Tell me where Orcas live!', additional_kwargs={}, response_metadata={}, name='Lance')]"
      ]
     },
     "execution_count": 18,
     "metadata": {},
     "output_type": "execute_result"
    }
   ],
   "source": [
    "messages.append(output['messages'][-1])\n",
    "messages.append(HumanMessage(f\"Tell me where Orcas live!\", name=\"Lance\"))\n",
    "messages"
   ]
  },
  {
   "cell_type": "code",
   "execution_count": 30,
   "id": "6d9d8971-c75c-43ca-a209-eb1d07b2ead0",
   "metadata": {},
   "outputs": [
    {
     "data": {
      "text/plain": [
       "[HumanMessage(content='Tell me more about Narwhals!', additional_kwargs={}, response_metadata={}, name='Lance', id='1188d323-d8a9-4def-8710-88fcc7f4c615'),\n",
       " AIMessage(content='Narwhals are fascinating marine mammals that are often referred to as the \"unicorns of the sea\" due to the long, spiraled tusk that protrudes from the head of males. Here are some interesting facts about narwhals:\\n\\n### Physical Characteristics\\n- **Tusks**: The most distinctive feature of narwhals is their tusk, which is actually an elongated canine tooth. It can grow up to 10 feet (3 meters) long and is found in males, though occasionally in females as well. The tusk is not used for fighting but may play a role in communication, navigation, and sensing environmental changes.\\n- **Size and Appearance**: Narwhals are medium-sized whales, with adults typically measuring between 13 to 18 feet (4 to 5.5 meters) in length and weighing around 1,800 to 3,500 pounds (800 to 1,600 kg). They have a mottled black and white skin pattern, which becomes more speckled as they age.\\n\\n### Habitat and Distribution\\n- **Arctic Waters**: Narwhals are primarily found in the Arctic waters around Canada, Greenland, Russia, and Norway. They prefer deep, ice-covered waters and are well-adapted to living in these cold environments.\\n- **Migration**: They migrate seasonally, moving closer to the coast in summer when the ice recedes and returning to deeper, more ice-covered areas in winter.\\n\\n### Behavior and Diet\\n- **Social Structure**: Narwhals are highly social animals and often travel in groups called pods, which can number from a few individuals to several hundred.\\n- **Diet**: Their primary diet consists of fish, such as cod and halibut, as well as squid and shrimp. They use echolocation to locate their prey in the dark, icy waters.\\n- **Diving Abilities**: Narwhals are known for their exceptional diving abilities. They can dive to depths of over 5,000 feet (1,500 meters) and stay submerged for up to 25 minutes, making them one of the deepest-diving marine mammals.\\n\\n### Conservation Status\\n- **Threats**: Narwhals face several threats, including climate change, which is causing the loss of sea ice and altering their habitat. They are also vulnerable to hunting, pollution, and entanglement in fishing gear.\\n- **Conservation Efforts**: Various organizations and governments are working to protect narwhals through research, monitoring, and the establishment of protected areas. The International Union for Conservation of Nature (IUCN) lists narwhals as \"Near Threatened.\"\\n\\n### Cultural Significance\\n- **Inuit Culture**: Narwhals have significant cultural and economic importance to Inuit communities, who have hunted them for centuries for their meat, skin, and tusks. The tusks are sometimes used in traditional art and crafts.\\n\\nNarwhals are truly unique and captivating creatures, and ongoing research continues to uncover more about their mysterious lives in the Arctic.', additional_kwargs={'refusal': None}, response_metadata={'token_usage': {'completion_tokens': 627, 'prompt_tokens': 16, 'total_tokens': 643, 'completion_tokens_details': None, 'prompt_tokens_details': {'audio_tokens': None, 'cached_tokens': 0}}, 'model_name': 'qwen-max', 'system_fingerprint': None, 'id': 'chatcmpl-4081ae16-d0a0-93d1-bfe5-2cc10150492e', 'finish_reason': 'stop', 'logprobs': None}, id='run-f3491dda-bf2f-44c2-a4bd-a3d035f17727-0', usage_metadata={'input_tokens': 16, 'output_tokens': 627, 'total_tokens': 643, 'input_token_details': {'cache_read': 0}, 'output_token_details': {}}),\n",
       " HumanMessage(content='Tell me where Orcas live!', additional_kwargs={}, response_metadata={}, name='Lance')]"
      ]
     },
     "execution_count": 30,
     "metadata": {},
     "output_type": "execute_result"
    }
   ],
   "source": [
    "# Example of trimming messages\n",
    "trim_messages(\n",
    "    messages,\n",
    "    max_tokens=700,\n",
    "    strategy=\"last\",\n",
    "    # 这里ChatOpenAI作为token计数器实际上并不需要与openai的模型交互，是纯本地计算，但是model仅支持openai的部分模型，所以这里暂时用gpt-4o粗略计算一下，又由于ChatOpenAI初始化必须有api_key，所以这里随便指定一个\n",
    "    token_counter=ChatOpenAI(model=\"gpt-4o\", api_key=\"no_user_because_local_calculation\"),\n",
    "    allow_partial=False\n",
    ")"
   ]
  },
  {
   "cell_type": "code",
   "execution_count": 36,
   "id": "ed70a269-a869-4fa0-a1df-29736a432c51",
   "metadata": {},
   "outputs": [],
   "source": [
    "# Invoke, using message trimming in the chat_model_node \n",
    "messages_out_trim = graph.invoke({'messages': messages})"
   ]
  },
  {
   "cell_type": "code",
   "execution_count": 37,
   "id": "53ca5850",
   "metadata": {},
   "outputs": [
    {
     "data": {
      "text/plain": [
       "{'messages': [AIMessage(content='Hi.', additional_kwargs={}, response_metadata={}, name='Bot', id='1'),\n",
       "  HumanMessage(content='Hi.', additional_kwargs={}, response_metadata={}, name='Lance', id='2'),\n",
       "  AIMessage(content='So you said you were researching ocean mammals?', additional_kwargs={}, response_metadata={}, name='Bot', id='3'),\n",
       "  HumanMessage(content='Yes, I know about whales. But what others should I learn about?', additional_kwargs={}, response_metadata={}, name='Lance', id='4'),\n",
       "  AIMessage(content='Great! If you\\'re already familiar with whales, there are several other fascinating ocean mammals you might want to explore. Here are a few:\\n\\n1. **Dolphins**: Highly intelligent and social, dolphins are known for their playful behavior and complex communication. There are many species of dolphins, such as the bottlenose dolphin, which is one of the most well-known.\\n\\n2. **Porpoises**: Often confused with dolphins, porpoises are actually a different family of marine mammals. They are generally smaller and have a more rounded head compared to dolphins. The harbor porpoise is one of the most common species.\\n\\n3. **Seals and Sea Lions (Pinnipeds)**: These are semi-aquatic mammals that can be found in both polar and temperate regions. Seals and sea lions are distinguished by their ability to move on land and in water. Some notable species include the harbor seal, the California sea lion, and the walrus, which is the largest pinniped.\\n\\n4. **Manatees and Dugongs (Sirenia)**: These gentle, herbivorous creatures are often referred to as \"sea cows\" due to their slow, grazing behavior. Manatees are found in freshwater and coastal areas, while dugongs are primarily marine. Both are endangered due to habitat loss and human activities.\\n\\n5. **Sea Otters**: Known for their playful behavior and use of tools (like rocks to crack open shellfish), sea otters are the heaviest members of the weasel family. They play a crucial role in maintaining the health of kelp forests by preying on sea urchins.\\n\\n6. **Polar Bears**: While not fully aquatic, polar bears are considered marine mammals because they spend a significant amount of time in the water hunting for seals. They are adapted to life in the Arctic and are excellent swimmers.\\n\\nEach of these groups has unique characteristics and plays important roles in their respective ecosystems. Learning about them can provide a broader understanding of the diversity and complexity of marine life.', additional_kwargs={'refusal': None}, response_metadata={'token_usage': {'completion_tokens': 414, 'prompt_tokens': 42, 'total_tokens': 456, 'completion_tokens_details': None, 'prompt_tokens_details': {'audio_tokens': None, 'cached_tokens': 0}}, 'model_name': 'qwen-max', 'system_fingerprint': None, 'id': 'chatcmpl-4028c7ef-8a4d-9718-a8cd-2dbecd858956', 'finish_reason': 'stop', 'logprobs': None}, id='run-f9b298b7-4607-45bd-81fa-8d9ef079224c-0', usage_metadata={'input_tokens': 42, 'output_tokens': 414, 'total_tokens': 456, 'input_token_details': {'cache_read': 0}, 'output_token_details': {}}),\n",
       "  HumanMessage(content='Tell me more about Narwhals!', additional_kwargs={}, response_metadata={}, name='Lance', id='1188d323-d8a9-4def-8710-88fcc7f4c615'),\n",
       "  AIMessage(content='Narwhals are fascinating marine mammals that are often referred to as the \"unicorns of the sea\" due to the long, spiraled tusk that protrudes from the head of males. Here are some interesting facts about narwhals:\\n\\n### Physical Characteristics\\n- **Tusks**: The most distinctive feature of narwhals is their tusk, which is actually an elongated canine tooth. It can grow up to 10 feet (3 meters) long and is found in males, though occasionally in females as well. The tusk is not used for fighting but may play a role in communication, navigation, and sensing environmental changes.\\n- **Size and Appearance**: Narwhals are medium-sized whales, with adults typically measuring between 13 to 18 feet (4 to 5.5 meters) in length and weighing around 1,800 to 3,500 pounds (800 to 1,600 kg). They have a mottled black and white skin pattern, which becomes more speckled as they age.\\n\\n### Habitat and Distribution\\n- **Arctic Waters**: Narwhals are primarily found in the Arctic waters around Canada, Greenland, Russia, and Norway. They prefer deep, ice-covered waters and are well-adapted to living in these cold environments.\\n- **Migration**: They migrate seasonally, moving closer to the coast in summer when the ice recedes and returning to deeper, more ice-covered areas in winter.\\n\\n### Behavior and Diet\\n- **Social Structure**: Narwhals are highly social animals and often travel in groups called pods, which can number from a few individuals to several hundred.\\n- **Diet**: Their primary diet consists of fish, such as cod and halibut, as well as squid and shrimp. They use echolocation to locate their prey in the dark, icy waters.\\n- **Diving Abilities**: Narwhals are known for their exceptional diving abilities. They can dive to depths of over 5,000 feet (1,500 meters) and stay submerged for up to 25 minutes, making them one of the deepest-diving marine mammals.\\n\\n### Conservation Status\\n- **Threats**: Narwhals face several threats, including climate change, which is causing the loss of sea ice and altering their habitat. They are also vulnerable to hunting, pollution, and entanglement in fishing gear.\\n- **Conservation Efforts**: Various organizations and governments are working to protect narwhals through research, monitoring, and the establishment of protected areas. The International Union for Conservation of Nature (IUCN) lists narwhals as \"Near Threatened.\"\\n\\n### Cultural Significance\\n- **Inuit Culture**: Narwhals have significant cultural and economic importance to Inuit communities, who have hunted them for centuries for their meat, skin, and tusks. The tusks are sometimes used in traditional art and crafts.\\n\\nNarwhals are truly unique and captivating creatures, and ongoing research continues to uncover more about their mysterious lives in the Arctic.', additional_kwargs={'refusal': None}, response_metadata={'token_usage': {'completion_tokens': 627, 'prompt_tokens': 16, 'total_tokens': 643, 'completion_tokens_details': None, 'prompt_tokens_details': {'audio_tokens': None, 'cached_tokens': 0}}, 'model_name': 'qwen-max', 'system_fingerprint': None, 'id': 'chatcmpl-4081ae16-d0a0-93d1-bfe5-2cc10150492e', 'finish_reason': 'stop', 'logprobs': None}, id='run-f3491dda-bf2f-44c2-a4bd-a3d035f17727-0', usage_metadata={'input_tokens': 16, 'output_tokens': 627, 'total_tokens': 643, 'input_token_details': {'cache_read': 0}, 'output_token_details': {}}),\n",
       "  HumanMessage(content='Tell me where Orcas live!', additional_kwargs={}, response_metadata={}, name='Lance', id='ff799008-95b9-46c8-9394-42d0e1fcc7f4'),\n",
       "  AIMessage(content='Orcas, also known as killer whales, are one of the most widely distributed marine mammals in the world. They can be found in all of the world\\'s oceans, from the Arctic and Antarctic to tropical and temperate waters. Here’s a more detailed look at their habitat and distribution:\\n\\n### Global Distribution\\n- **Arctic and Antarctic**: Orcas are found in both polar regions. In the Arctic, they can be seen in areas like the Barents Sea, Greenland, and the waters around Svalbard. In the Antarctic, they are common in the Southern Ocean, often seen near the ice edge.\\n- **Temperate Waters**: Orcas are frequently observed in temperate regions, including the North Atlantic (e.g., off the coasts of Norway, Iceland, and the United Kingdom) and the North Pacific (e.g., off the coasts of Alaska, British Columbia, and Washington State).\\n- **Tropical and Subtropical Waters**: While less common, orcas can also be found in warmer waters, such as the Gulf of Mexico, the Caribbean, and the Mediterranean Sea.\\n\\n### Specific Populations and Habitats\\n- **Resident Populations**: Some orca populations, known as \"resident\" orcas, have specific home ranges and are often associated with particular coastal areas. For example, the Southern Resident orcas in the Pacific Northwest of North America are well-studied and are known to frequent the waters around Puget Sound, the Strait of Georgia, and the Juan de Fuca Strait.\\n- **Transient Populations**: \"Transient\" orcas, also called \"Bigg\\'s killer whales,\" are more nomadic and travel over larger areas. They are often seen in coastal waters but do not have fixed home ranges.\\n- **Offshore Populations**: These orcas are found in deeper, offshore waters and are less frequently observed than resident and transient populations. They are known to travel long distances and are often seen in the open ocean.\\n\\n### Habitat Preferences\\n- **Coastal and Offshore Waters**: Orcas can be found in both coastal and offshore environments. Coastal orcas tend to stay closer to shore, while offshore orcas prefer deeper, more open waters.\\n- **Feeding Grounds**: The specific habitats of orcas are often determined by the availability of their preferred prey. Different ecotypes of orcas specialize in different types of food, such as fish, seals, and even other whale species.\\n\\n### Conservation and Threats\\n- **Habitat Degradation**: Pollution, noise pollution, and the loss of prey due to overfishing and climate change are significant threats to orcas.\\n- **Conservation Efforts**: Many orca populations are protected under various national and international laws. For example, the Southern Resident orcas are listed as endangered under the U.S. Endangered Species Act.\\n\\nOrcas are highly adaptable and can thrive in a variety of marine environments, making them one of the most versatile and widespread marine mammals. Their presence in so many different ecosystems highlights their importance in the global marine ecosystem.', additional_kwargs={'refusal': None}, response_metadata={'token_usage': {'completion_tokens': 622, 'prompt_tokens': 660, 'total_tokens': 1282, 'completion_tokens_details': None, 'prompt_tokens_details': {'audio_tokens': None, 'cached_tokens': 0}}, 'model_name': 'qwen-max', 'system_fingerprint': None, 'id': 'chatcmpl-b3c0b667-1235-96c5-a5da-049593e32a8c', 'finish_reason': 'stop', 'logprobs': None}, id='run-0d14e8e1-c7b4-442b-85db-deb1aeb00379-0', usage_metadata={'input_tokens': 660, 'output_tokens': 622, 'total_tokens': 1282, 'input_token_details': {'cache_read': 0}, 'output_token_details': {}})]}"
      ]
     },
     "execution_count": 37,
     "metadata": {},
     "output_type": "execute_result"
    }
   ],
   "source": [
    "messages_out_trim"
   ]
  },
  {
   "cell_type": "markdown",
   "id": "38b3db67-380e-46b5-9a6a-20100ba52008",
   "metadata": {},
   "source": [
    "让我们看一下 LangSmith 追踪来查看模型的调用：\n",
    "\n",
    "https://smith.langchain.com/public/f0215f64-f151-4f80-ba46-033f9a131c1e/r/0d14e8e1-c7b4-442b-85db-deb1aeb00379"
   ]
  }
 ],
 "metadata": {
  "kernelspec": {
   "display_name": "langchan-3.12",
   "language": "python",
   "name": "python3"
  },
  "language_info": {
   "codemirror_mode": {
    "name": "ipython",
    "version": 3
   },
   "file_extension": ".py",
   "mimetype": "text/x-python",
   "name": "python",
   "nbconvert_exporter": "python",
   "pygments_lexer": "ipython3",
   "version": "3.12.9"
  }
 },
 "nbformat": 4,
 "nbformat_minor": 5
}
