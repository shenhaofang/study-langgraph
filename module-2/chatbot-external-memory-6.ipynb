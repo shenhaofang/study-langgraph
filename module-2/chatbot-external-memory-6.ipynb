{
 "cells": [
  {
   "cell_type": "markdown",
   "id": "cf7ccb32",
   "metadata": {},
   "source": [
    "[![Open in LangChain Academy](https://cdn.prod.website-files.com/65b8cd72835ceeacd4449a53/66e9eba12c7b7688aa3dbb5e_LCA-badge-green.svg)](https://academy.langchain.com/courses/take/intro-to-langgraph/lessons/58239440-lesson-6-chatbot-w-summarizing-messages-and-external-memory)"
   ]
  },
  {
   "cell_type": "markdown",
   "id": "af6c7afe-1037-41ab-98e4-494692e47402",
   "metadata": {},
   "source": [
    "# 具有消息摘要和外部数据库记忆的聊天机器人\n",
    "\n",
    "## 回顾\n",
    "\n",
    "我们已经介绍了怎样自定义图状态模式和 reducer。\n",
    " \n",
    "我们还展示了一些裁剪和过滤图状态中的消息的技巧。\n",
    "\n",
    "我们已经将这些概念用在了一个具有记忆的聊天机器人上，该机器人可以生成对话的运行摘要。\n",
    "\n",
    "## 目标\n",
    "\n",
    "但是，如果我们想让我们的聊天机器人拥有永久的持久化记忆呢？\n",
    "\n",
    "现在，我们将介绍一些高级的检查器来支持外部的数据库。\n",
    "\n",
    "这里，我们将展示怎样使用[Sqlite 作为一个检查器](https://langchain-ai.github.io/langgraph/concepts/low_level/#checkpointer)，但是其他检查器，如[Postgres](https://langchain-ai.github.io/langgraph/how-tos/persistence_postgres/) 也是可用的!"
   ]
  },
  {
   "cell_type": "code",
   "execution_count": 5,
   "id": "85ed78d9-6ca2-45ac-96a9-52e341ec519d",
   "metadata": {},
   "outputs": [],
   "source": [
    "%%capture --no-stderr\n",
    "%pip install --quiet -U langgraph-checkpoint-sqlite langchain_core langgraph langchain_openai"
   ]
  },
  {
   "cell_type": "code",
   "execution_count": null,
   "id": "2e10c4d4",
   "metadata": {},
   "outputs": [],
   "source": [
    "import os, getpass\n",
    "\n",
    "def _set_env(var: str):\n",
    "    if not os.environ.get(var):\n",
    "        os.environ[var] = getpass.getpass(f\"{var}: \")\n",
    "\n",
    "_set_env(\"OPENAI_API_KEY\")"
   ]
  },
  {
   "cell_type": "code",
   "execution_count": 15,
   "id": "2d971216",
   "metadata": {},
   "outputs": [],
   "source": [
    "import yaml\n",
    "\n",
    "# 我没有openai的api key，所以使用qwen的openai兼容接口，需要设置qwen的api key和base url，我选择从配置文件.yml中读取\n",
    "with open(\"../.yml\", \"r\") as f:\n",
    "    config = yaml.safe_load(f)\n",
    "\n",
    "qwen_config = config[\"llm\"][\"qwen\"]\n"
   ]
  },
  {
   "cell_type": "markdown",
   "id": "b40d25c0-e9b5-4854-bf07-3cc3ff07122e",
   "metadata": {},
   "source": [
    "## Sqlite\n",
    "\n",
    "这是一个好的七点，这是 [SqliteSaver 检查器](https://langchain-ai.github.io/langgraph/concepts/low_level/#checkpointer).\n",
    "\n",
    "Sqlite 是一个 [轻量，快速且非常受欢迎的](https://x.com/karpathy/status/1819490455664685297) SQL 数据库。 \n",
    " \n",
    "如果我们提供 `\":memory:\"` 它将创建一个内存中的 Sqlite 数据库。"
   ]
  },
  {
   "cell_type": "code",
   "execution_count": 47,
   "id": "fae15402-17ae-4e89-8ecf-4c89e08b22fe",
   "metadata": {},
   "outputs": [],
   "source": [
    "import sqlite3\n",
    "# In memory\n",
    "conn = sqlite3.connect(\":memory:\", check_same_thread = False)"
   ]
  },
  {
   "cell_type": "markdown",
   "id": "c2bf53ec-6d4a-42ce-8183-344795eed403",
   "metadata": {},
   "source": [
    "但是，如果我们提供一个数据库路径，它将为我们创建一个数据库！"
   ]
  },
  {
   "cell_type": "code",
   "execution_count": 48,
   "id": "58339167-920c-4994-a0a7-0a9c5d4f7cf7",
   "metadata": {},
   "outputs": [],
   "source": [
    "# pull file if it doesn't exist and connect to local db\n",
    "!mkdir -p state_db && [ ! -f state_db/example.db ] && wget -P state_db https://github.com/langchain-ai/langchain-academy/raw/main/module-2/state_db/example.db\n",
    "\n",
    "db_path = \"state_db/example.db\"\n",
    "conn = sqlite3.connect(db_path, check_same_thread=False)"
   ]
  },
  {
   "cell_type": "code",
   "execution_count": 49,
   "id": "3c7736b6-a750-48f8-a838-8e7616b12250",
   "metadata": {},
   "outputs": [],
   "source": [
    "# Here is our checkpointer \n",
    "from langgraph.checkpoint.sqlite import SqliteSaver\n",
    "\n",
    "memory = SqliteSaver(conn)\n"
   ]
  },
  {
   "cell_type": "markdown",
   "id": "9d8cb629-213f-4b87-965e-19b812c42da1",
   "metadata": {},
   "source": [
    "让我们重定义我们的chatbot."
   ]
  },
  {
   "cell_type": "code",
   "execution_count": 45,
   "id": "dc414e29-2078-41a0-887c-af1a6a3d72c0",
   "metadata": {},
   "outputs": [],
   "source": [
    "from langchain_openai import ChatOpenAI\n",
    "from langchain_core.messages import SystemMessage, HumanMessage, RemoveMessage\n",
    "\n",
    "from langgraph.graph import END\n",
    "from langgraph.graph import MessagesState\n",
    "\n",
    "model = ChatOpenAI(model=\"qwen-max\", base_url=qwen_config[\"base_url\"], api_key=qwen_config[\"api_key\"], temperature=0)\n",
    "\n",
    "class State(MessagesState):\n",
    "    summary: str\n",
    "\n",
    "# Define the logic to call the model\n",
    "def call_model(state: State):\n",
    "    \n",
    "    # Get summary if it exists\n",
    "    summary = state.get(\"summary\", \"\")\n",
    "\n",
    "    # If there is summary, then we add it\n",
    "    if summary:\n",
    "        \n",
    "        # Add summary to system message\n",
    "        system_message = f\"Summary of conversation earlier: {summary}\"\n",
    "\n",
    "        # Append summary to any newer messages\n",
    "        messages = [SystemMessage(content=system_message)] + state[\"messages\"]\n",
    "    \n",
    "    else:\n",
    "        messages = state[\"messages\"]\n",
    "    \n",
    "    response = model.invoke(messages)\n",
    "    return {\"messages\": response}\n",
    "\n",
    "def summarize_conversation(state: State):\n",
    "    \n",
    "    # First, we get any existing summary\n",
    "    summary = state.get(\"summary\", \"\")\n",
    "\n",
    "    # Create our summarization prompt \n",
    "    if summary:\n",
    "        \n",
    "        # A summary already exists\n",
    "        summary_message = (\n",
    "            f\"This is summary of the conversation to date: {summary}\\n\\n\"\n",
    "            \"Extend the summary by taking into account the new messages above, only output the summary, no other text:\"\n",
    "        )\n",
    "        \n",
    "    else:\n",
    "        summary_message = \"Create a summary of the conversation above, only output the summary, no other text:\"\n",
    "\n",
    "    # Add prompt to our history\n",
    "    messages = state[\"messages\"] + [HumanMessage(content=summary_message)]\n",
    "    response = model.invoke(messages)\n",
    "    \n",
    "    # Delete all but the 2 most recent messages\n",
    "    delete_messages = [RemoveMessage(id=m.id) for m in state[\"messages\"][:-2]]\n",
    "    return {\"summary\": response.content, \"messages\": delete_messages}\n",
    "\n",
    "# Determine whether to end or summarize the conversation\n",
    "def should_continue(state: State):\n",
    "    \n",
    "    \"\"\"Return the next node to execute.\"\"\"\n",
    "    \n",
    "    messages = state[\"messages\"]\n",
    "    \n",
    "    # If there are more than six messages, then we summarize the conversation\n",
    "    if len(messages) > 6:\n",
    "        return \"summarize_conversation\"\n",
    "    \n",
    "    # Otherwise we can just end\n",
    "    return END"
   ]
  },
  {
   "cell_type": "markdown",
   "id": "41c13c0b-a383-4f73-9cc1-63f0eed8f190",
   "metadata": {},
   "source": [
    "现在，我们只要用我们的数据库检查点重新编译我们的图。"
   ]
  },
  {
   "cell_type": "code",
   "execution_count": 56,
   "id": "e867fd95-91eb-4ce1-82fc-bb72d611a96d",
   "metadata": {},
   "outputs": [
    {
     "data": {
      "image/png": "[encoded data removed]",
      "text/plain": [
       "<IPython.core.display.Image object>"
      ]
     },
     "metadata": {},
     "output_type": "display_data"
    }
   ],
   "source": [
    "from IPython.display import Image, display\n",
    "from langgraph.graph import StateGraph, START\n",
    "\n",
    "# Define a new graph\n",
    "workflow = StateGraph(State)\n",
    "workflow.add_node(\"conversation\", call_model)\n",
    "workflow.add_node(summarize_conversation)\n",
    "\n",
    "# Set the entrypoint as conversation\n",
    "workflow.add_edge(START, \"conversation\")\n",
    "workflow.add_conditional_edges(\"conversation\", should_continue)\n",
    "workflow.add_edge(\"summarize_conversation\", END)\n",
    "\n",
    "# Compile\n",
    "graph = workflow.compile(checkpointer=memory)\n",
    "display(Image(graph.get_graph().draw_mermaid_png()))"
   ]
  },
  {
   "cell_type": "markdown",
   "id": "8769db99-3938-45e6-a594-56beb18d6c45",
   "metadata": {},
   "source": [
    "现在，我们可以多次执行这个图。"
   ]
  },
  {
   "cell_type": "code",
   "execution_count": 57,
   "id": "0f4094a0-d240-4be8-903a-7d9f605bdc5c",
   "metadata": {},
   "outputs": [
    {
     "name": "stdout",
     "output_type": "stream",
     "text": [
      "==================================\u001b[1m Ai Message \u001b[0m==================================\n",
      "\n",
      "Hello Lance! It's nice to see you again. You mentioned that you like the 49ers. Is there anything specific about the 49ers you'd like to talk about, or is there another topic you're interested in?\n",
      "==================================\u001b[1m Ai Message \u001b[0m==================================\n",
      "\n",
      "Your name is Lance! Is there anything else you'd like to chat about, Lance?\n",
      "==================================\u001b[1m Ai Message \u001b[0m==================================\n",
      "\n",
      "That's great, Lance! The 49ers have a rich history and a passionate fan base. Is there anything specific you'd like to discuss about the 49ers? Maybe their current roster, recent games, or any favorite players or moments?\n"
     ]
    }
   ],
   "source": [
    "# Create a thread\n",
    "config = {\"configurable\": {\"thread_id\": \"1\"}}\n",
    "\n",
    "# Start conversation\n",
    "input_message = HumanMessage(content=\"hi! I'm Lance\")\n",
    "output = graph.invoke({\"messages\": [input_message]}, config) \n",
    "for m in output['messages'][-1:]:\n",
    "    m.pretty_print()\n",
    "\n",
    "input_message = HumanMessage(content=\"what's my name?\")\n",
    "output = graph.invoke({\"messages\": [input_message]}, config) \n",
    "for m in output['messages'][-1:]:\n",
    "    m.pretty_print()\n",
    "\n",
    "input_message = HumanMessage(content=\"i like the 49ers!\")\n",
    "output = graph.invoke({\"messages\": [input_message]}, config) \n",
    "for m in output['messages'][-1:]:\n",
    "    m.pretty_print()"
   ]
  },
  {
   "cell_type": "markdown",
   "id": "c0f3e842-4497-45e2-a924-69672a9bcb33",
   "metadata": {},
   "source": [
    "让我们确认我们的状态已经被存在了本地。"
   ]
  },
  {
   "cell_type": "code",
   "execution_count": 58,
   "id": "d2ab158a-5a82-417a-8841-730a4cc18ea7",
   "metadata": {},
   "outputs": [
    {
     "data": {
      "text/plain": [
       "StateSnapshot(values={'messages': [HumanMessage(content=\"hi! I'm Lance\", additional_kwargs={}, response_metadata={}, id='b1ce4456-948a-467d-806e-41e2e6b20baf'), AIMessage(content=\"Hello Lance! It's nice to see you again. You mentioned that you like the 49ers. Is there anything specific about the 49ers you'd like to talk about, or is there another topic you're interested in?\", additional_kwargs={'refusal': None}, response_metadata={'token_usage': {'completion_tokens': 49, 'prompt_tokens': 331, 'total_tokens': 380, 'completion_tokens_details': None, 'prompt_tokens_details': {'audio_tokens': None, 'cached_tokens': 0}}, 'model_name': 'qwen-max', 'system_fingerprint': None, 'id': 'chatcmpl-532a82a7-e45a-995c-ab63-b05bac82a697', 'finish_reason': 'stop', 'logprobs': None}, id='run-55b2de04-bcfd-44dc-9522-1748c2162722-0', usage_metadata={'input_tokens': 331, 'output_tokens': 49, 'total_tokens': 380, 'input_token_details': {'cache_read': 0}, 'output_token_details': {}}), HumanMessage(content=\"what's my name?\", additional_kwargs={}, response_metadata={}, id='02b56a1c-21e3-4ecd-9817-b0f0590f7099'), AIMessage(content=\"Your name is Lance! Is there anything else you'd like to chat about, Lance?\", additional_kwargs={'refusal': None}, response_metadata={'token_usage': {'completion_tokens': 18, 'prompt_tokens': 239, 'total_tokens': 257, 'completion_tokens_details': None, 'prompt_tokens_details': {'audio_tokens': None, 'cached_tokens': 0}}, 'model_name': 'qwen-max', 'system_fingerprint': None, 'id': 'chatcmpl-2a37b444-e503-98ac-83f3-d55cd98ff445', 'finish_reason': 'stop', 'logprobs': None}, id='run-66b8d67f-fc4a-4786-8a02-ba31a87b3aea-0', usage_metadata={'input_tokens': 239, 'output_tokens': 18, 'total_tokens': 257, 'input_token_details': {'cache_read': 0}, 'output_token_details': {}}), HumanMessage(content='i like the 49ers!', additional_kwargs={}, response_metadata={}, id='27d24d45-ce40-4f26-86d8-66983a061674'), AIMessage(content=\"That's great, Lance! The 49ers have a rich history and a passionate fan base. Is there anything specific you'd like to discuss about the 49ers? Maybe their current roster, recent games, or any favorite players or moments?\", additional_kwargs={'refusal': None}, response_metadata={'token_usage': {'completion_tokens': 52, 'prompt_tokens': 275, 'total_tokens': 327, 'completion_tokens_details': None, 'prompt_tokens_details': {'audio_tokens': None, 'cached_tokens': 0}}, 'model_name': 'qwen-max', 'system_fingerprint': None, 'id': 'chatcmpl-b2f433c6-685b-9a9f-b52e-544b751b826a', 'finish_reason': 'stop', 'logprobs': None}, id='run-c254e7f9-5aaa-4de4-812e-c23edb61a492-0', usage_metadata={'input_tokens': 275, 'output_tokens': 52, 'total_tokens': 327, 'input_token_details': {'cache_read': 0}, 'output_token_details': {}})], 'summary': \"Lance introduced himself twice during the conversation and expressed his fondness for the San Francisco 49ers football team. The AI assistant acknowledged Lance's name each time and showed willingness to discuss the 49ers, offering to talk about various aspects of the team such as their history, current roster, or memorable games. The conversation was brief and somewhat repetitive, with Lance reintroducing himself at the end without directly responding to the AI's questions or prompts about the 49ers. In the latest exchange, Lance provided a summary of the conversation, and the AI acknowledged it, reiterating its willingness to discuss the 49ers or any other topic. Lance then provided an updated summary, and the AI extended the summary to include the new messages.\"}, next=(), config={'configurable': {'thread_id': '1', 'checkpoint_ns': '', 'checkpoint_id': '1f020f3a-22f8-6cc8-8025-9ae131256f4d'}}, metadata={'source': 'loop', 'writes': {'conversation': {'messages': AIMessage(content=\"That's great, Lance! The 49ers have a rich history and a passionate fan base. Is there anything specific you'd like to discuss about the 49ers? Maybe their current roster, recent games, or any favorite players or moments?\", additional_kwargs={'refusal': None}, response_metadata={'token_usage': {'completion_tokens': 52, 'prompt_tokens': 275, 'total_tokens': 327, 'completion_tokens_details': None, 'prompt_tokens_details': {'audio_tokens': None, 'cached_tokens': 0}}, 'model_name': 'qwen-max', 'system_fingerprint': None, 'id': 'chatcmpl-b2f433c6-685b-9a9f-b52e-544b751b826a', 'finish_reason': 'stop', 'logprobs': None}, id='run-c254e7f9-5aaa-4de4-812e-c23edb61a492-0', usage_metadata={'input_tokens': 275, 'output_tokens': 52, 'total_tokens': 327, 'input_token_details': {'cache_read': 0}, 'output_token_details': {}})}}, 'step': 37, 'parents': {}, 'thread_id': '1'}, created_at='2025-04-24T10:05:21.865212+00:00', parent_config={'configurable': {'thread_id': '1', 'checkpoint_ns': '', 'checkpoint_id': '1f020f3a-06b2-61fe-8024-6dc15f1abe99'}}, tasks=())"
      ]
     },
     "execution_count": 58,
     "metadata": {},
     "output_type": "execute_result"
    }
   ],
   "source": [
    "config = {\"configurable\": {\"thread_id\": \"1\"}}\n",
    "graph_state = graph.get_state(config)\n",
    "graph_state"
   ]
  },
  {
   "cell_type": "markdown",
   "id": "1e21152d-ed9c-408d-b7d5-f634c9ce81e2",
   "metadata": {},
   "source": [
    "### 持久化状态\n",
    "\n",
    "使用想SQLite这样的数据库意味着状态被持久化了！\n",
    "\n",
    "例如，我们可以重启 notebook kernel 来确认我们仍然可以从磁盘上的 Sqlite 数据库中加载\n"
   ]
  },
  {
   "cell_type": "code",
   "execution_count": 8,
   "id": "b9a44dc5-be04-45fa-a6fc-27b0f8ee4678",
   "metadata": {},
   "outputs": [
    {
     "data": {
      "text/plain": [
       "StateSnapshot(values={'messages': [HumanMessage(content=\"hi! I'm Lance\", id='d5bb4b3f-b1e9-4f61-8c75-7a7210b30253'), AIMessage(content=\"Hello again, Lance! It's great to hear from you. Since you like the 49ers, is there a particular player or moment in their history that stands out to you? Or perhaps you'd like to discuss their current season? Let me know!\", additional_kwargs={'refusal': None}, response_metadata={'token_usage': {'completion_tokens': 50, 'prompt_tokens': 337, 'total_tokens': 387}, 'model_name': 'gpt-4o-2024-05-13', 'system_fingerprint': 'fp_157b3831f5', 'finish_reason': 'stop', 'logprobs': None}, id='run-dde04d51-d305-4a9e-8ad5-6bdf5583196e-0', usage_metadata={'input_tokens': 337, 'output_tokens': 50, 'total_tokens': 387}), HumanMessage(content=\"what's my name?\", id='d7530770-f130-4a05-a602-a96fd87859c6'), AIMessage(content='Your name is Lance! How can I assist you today? Would you like to talk more about the San Francisco 49ers or something else?', additional_kwargs={'refusal': None}, response_metadata={'token_usage': {'completion_tokens': 29, 'prompt_tokens': 243, 'total_tokens': 272}, 'model_name': 'gpt-4o-2024-05-13', 'system_fingerprint': 'fp_fde2829a40', 'finish_reason': 'stop', 'logprobs': None}, id='run-763b6387-c4c9-4658-9d01-7c018dde7a62-0', usage_metadata={'input_tokens': 243, 'output_tokens': 29, 'total_tokens': 272}), HumanMessage(content='i like the 49ers!', id='235dcec4-b656-4bee-b741-e330e1a026e2'), AIMessage(content=\"That's awesome, Lance! The San Francisco 49ers have a rich history and a passionate fan base. Is there a specific aspect of the team you'd like to discuss? For example, we could talk about:\\n\\n- Their legendary players like Joe Montana and Jerry Rice\\n- Memorable games and Super Bowl victories\\n- The current roster and season prospects\\n- Rivalries, like the one with the Seattle Seahawks\\n- Levi's Stadium and the fan experience\\n\\nLet me know what interests you!\", additional_kwargs={'refusal': None}, response_metadata={'token_usage': {'completion_tokens': 98, 'prompt_tokens': 287, 'total_tokens': 385}, 'model_name': 'gpt-4o-2024-05-13', 'system_fingerprint': 'fp_fde2829a40', 'finish_reason': 'stop', 'logprobs': None}, id='run-729860b2-16c3-46ff-ad1e-0a5475565b20-0', usage_metadata={'input_tokens': 287, 'output_tokens': 98, 'total_tokens': 385})], 'summary': 'Here\\'s an extended summary of the conversation:\\n\\nLance introduced himself multiple times during the conversation, each time stating, \"Hi! I\\'m Lance.\" He expressed his fondness for the San Francisco 49ers football team. The AI assistant acknowledged Lance\\'s name each time and showed willingness to discuss the 49ers, offering to talk about various aspects of the team such as their history, current roster, memorable games, prospects for the upcoming season, rivalries, and their home stadium, Levi\\'s Stadium. Despite the AI\\'s attempts to engage in a more detailed discussion about the 49ers, Lance reintroduced himself again without directly responding to the AI\\'s questions or prompts about the team. The conversation remained brief and somewhat repetitive, focusing mainly on Lance\\'s introductions and his interest in the 49ers.'}, next=(), config={'configurable': {'thread_id': '1', 'checkpoint_ns': '', 'checkpoint_id': '1ef6a36d-ca9c-6144-801b-6d0cf97adc73'}}, metadata={'source': 'loop', 'writes': {'conversation': {'messages': AIMessage(content=\"That's awesome, Lance! The San Francisco 49ers have a rich history and a passionate fan base. Is there a specific aspect of the team you'd like to discuss? For example, we could talk about:\\n\\n- Their legendary players like Joe Montana and Jerry Rice\\n- Memorable games and Super Bowl victories\\n- The current roster and season prospects\\n- Rivalries, like the one with the Seattle Seahawks\\n- Levi's Stadium and the fan experience\\n\\nLet me know what interests you!\", additional_kwargs={'refusal': None}, response_metadata={'token_usage': {'completion_tokens': 98, 'prompt_tokens': 287, 'total_tokens': 385}, 'model_name': 'gpt-4o-2024-05-13', 'system_fingerprint': 'fp_fde2829a40', 'finish_reason': 'stop', 'logprobs': None}, id='run-729860b2-16c3-46ff-ad1e-0a5475565b20-0', usage_metadata={'input_tokens': 287, 'output_tokens': 98, 'total_tokens': 385})}}, 'step': 27, 'parents': {}}, created_at='2024-09-03T20:55:33.466540+00:00', parent_config={'configurable': {'thread_id': '1', 'checkpoint_ns': '', 'checkpoint_id': '1ef6a36d-b8f3-6b40-801a-494776d2e9e0'}}, tasks=())"
      ]
     },
     "execution_count": 8,
     "metadata": {},
     "output_type": "execute_result"
    }
   ],
   "source": [
    "# Create a thread\n",
    "config = {\"configurable\": {\"thread_id\": \"1\"}}\n",
    "graph_state = graph.get_state(config)\n",
    "graph_state"
   ]
  },
  {
   "cell_type": "code",
   "execution_count": 62,
   "id": "0524da6a",
   "metadata": {},
   "outputs": [
    {
     "name": "stdout",
     "output_type": "stream",
     "text": [
      "==================================\u001b[1m Ai Message \u001b[0m==================================\n",
      "\n",
      "Hello Lance! It's nice to see you again. You mentioned earlier that you like the 49ers. Do you have a favorite player on the team, or are you looking forward to any upcoming games?\n",
      "==================================\u001b[1m Ai Message \u001b[0m==================================\n",
      "\n",
      "Your name is Lance! Is there anything specific you'd like to chat about, or do you have any other questions?\n",
      "==================================\u001b[1m Ai Message \u001b[0m==================================\n",
      "\n",
      "That's great, Lance! The 49ers have a rich history and a passionate fan base. Do you have a favorite player on the team, or are you looking forward to any upcoming games?\n"
     ]
    }
   ],
   "source": [
    "# 再试试mysql版的\n",
    "from langgraph.checkpoint.mysql.aio import AIOMySQLSaver\n",
    "\n",
    "config = {\"configurable\": {\"thread_id\": \"2\"}}\n",
    "async with AIOMySQLSaver.from_conn_string(\"mysql+aiomysql://db_rw:EU23sa2wv:T6UYM@10.0.48.12:3306/test?charset=utf8mb4&collation=utf8mb4_0900_ai_ci&parseTime=true&loc=Local\") as checkpointer:\n",
    "    # call .setup() the first time you're using the checkpointer\n",
    "    # await checkpointer.setup()\n",
    "    # Compile\n",
    "    graph = workflow.compile(checkpointer=checkpointer)\n",
    "\n",
    "    # 用异步的方式\n",
    "    # Start conversation\n",
    "    input_message = HumanMessage(content=\"hi! I'm Lance\")\n",
    "    output = await graph.ainvoke({\"messages\": [input_message]}, config) \n",
    "    for m in output['messages'][-1:]:\n",
    "        m.pretty_print()\n",
    "\n",
    "    input_message = HumanMessage(content=\"what's my name?\")\n",
    "    output = await graph.ainvoke({\"messages\": [input_message]}, config) \n",
    "    for m in output['messages'][-1:]:\n",
    "        m.pretty_print()\n",
    "\n",
    "    input_message = HumanMessage(content=\"i like the 49ers!\")\n",
    "    output = await graph.ainvoke({\"messages\": [input_message]}, config) \n",
    "    for m in output['messages'][-1:]:\n",
    "        m.pretty_print()"
   ]
  },
  {
   "cell_type": "code",
   "execution_count": 75,
   "id": "aa589976",
   "metadata": {},
   "outputs": [
    {
     "name": "stdout",
     "output_type": "stream",
     "text": [
      "dict_keys(['messages', 'summary'])\n",
      "Lance introduced himself and mentioned that he likes the San Francisco 49ers. He was asked if he had a favorite player or was looking forward to any upcoming games. Lance then reintroduced himself, and the conversation circled back to his interest in the 49ers, with the same question about a favorite player or upcoming games.\n",
      "================================\u001b[1m Human Message \u001b[0m=================================\n",
      "\n",
      "hi! I'm Lance\n",
      "==================================\u001b[1m Ai Message \u001b[0m==================================\n",
      "\n",
      "Hello Lance! It's nice to see you again. You mentioned earlier that you like the 49ers. Do you have a favorite player on the team, or are you looking forward to any upcoming games?\n",
      "================================\u001b[1m Human Message \u001b[0m=================================\n",
      "\n",
      "what's my name?\n",
      "==================================\u001b[1m Ai Message \u001b[0m==================================\n",
      "\n",
      "Your name is Lance! Is there anything specific you'd like to chat about, or do you have any other questions?\n",
      "================================\u001b[1m Human Message \u001b[0m=================================\n",
      "\n",
      "i like the 49ers!\n",
      "==================================\u001b[1m Ai Message \u001b[0m==================================\n",
      "\n",
      "That's great, Lance! The 49ers have a rich history and a passionate fan base. Do you have a favorite player on the team, or are you looking forward to any upcoming games?\n"
     ]
    }
   ],
   "source": [
    "# 试试mysql版的持久化\n",
    "async with AIOMySQLSaver.from_conn_string(\"mysql+aiomysql://db_rw:EU23sa2wv:T6UYM@10.0.48.12:3306/test?charset=utf8mb4&collation=utf8mb4_0900_ai_ci&parseTime=true&loc=Local\") as checkpointer:\n",
    "        # Create a thread\n",
    "    config = {\"configurable\": {\"thread_id\": \"2\"}}\n",
    "    graph = workflow.compile(checkpointer=checkpointer)\n",
    "    graph_state = await graph.aget_state(config)\n",
    "    print(graph_state.values.keys())\n",
    "    print(graph_state.values[\"summary\"])\n",
    "    for m in graph_state.values['messages']:\n",
    "        m.pretty_print()\n",
    "\n",
    "    \n",
    "    "
   ]
  },
  {
   "cell_type": "markdown",
   "id": "8466e418-1a46-4cdb-a51a-6ae14281bb85",
   "metadata": {},
   "source": [
    "## LangGraph Studio\n",
    "\n",
    "要启动本地开发服务器，请在该module的 `/studio` 目录中的终端中运行以下命令：\n",
    "\n",
    "```\n",
    "langgraph dev\n",
    "```\n",
    "\n",
    "您应该看到以下输出：\n",
    "```\n",
    "- 🚀 API: http://127.0.0.1:2024\n",
    "- 🎨 Studio UI: https://smith.langchain.com/studio/?baseUrl=http://127.0.0.1:2024\n",
    "- 📚 API Docs: http://127.0.0.1:2024/docs\n",
    "```\n",
    "\n",
    "O打开您的浏览器并导航到 Studio UI：`https://smith.langchain.com/studio/?baseUrl=http://127.0.0.1:2024`."
   ]
  },
  {
   "cell_type": "markdown",
   "id": "c4916d8b",
   "metadata": {},
   "source": []
  }
 ],
 "metadata": {
  "kernelspec": {
   "display_name": "langchan-3.12",
   "language": "python",
   "name": "python3"
  },
  "language_info": {
   "codemirror_mode": {
    "name": "ipython",
    "version": 3
   },
   "file_extension": ".py",
   "mimetype": "text/x-python",
   "name": "python",
   "nbconvert_exporter": "python",
   "pygments_lexer": "ipython3",
   "version": "3.12.9"
  }
 },
 "nbformat": 4,
 "nbformat_minor": 5
}
