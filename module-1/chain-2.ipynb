{
 "cells": [
  {
   "cell_type": "markdown",
   "id": "4cbf2458",
   "metadata": {},
   "source": [
    "[![Open in Colab](https://colab.research.google.com/assets/colab-badge.svg)](https://colab.research.google.com/github/langchain-ai/langchain-academy/blob/main/module-1/chain.ipynb) [![Open in LangChain Academy](https://cdn.prod.website-files.com/65b8cd72835ceeacd4449a53/66e9eba12c7b7688aa3dbb5e_LCA-badge-green.svg)](https://academy.langchain.com/courses/take/intro-to-langgraph/lessons/58238466-lesson-4-chain)"
   ]
  },
  {
   "attachments": {},
   "cell_type": "markdown",
   "id": "ee55d3da-c53a-4c76-b46f-8e0d602e072e",
   "metadata": {},
   "source": [
    "# Chain 链\n",
    "\n",
    "## 回顾\n",
    "\n",
    "我们构建了一个简单的图，包含节点、普通边和条件边。\n",
    "\n",
    "## 目标\n",
    "\n",
    "现在，让我们构建一个简单的链条，它结合了4个[概念](https://python.langchain.com/v0.2/docs/concepts/):\n",
    "\n",
    "* 使用[聊天消息](https://python.langchain.com/v0.2/docs/concepts/#messages)作为我们的图状态\n",
    "* 使用[聊天模型](https://python.langchain.com/v0.2/docs/concepts/#chat-models)作为图节点\n",
    "* [将工具绑定](https://python.langchain.com/v0.2/docs/concepts/#tools)到我们的聊天模型\n",
    "* 在图节点中[执行工具调用](https://python.langchain.com/v0.2/docs/concepts/#functiontool-calling)\n",
    "\n",
    "![Screenshot 2024-08-21 at 9.24.03 AM.png](https://cdn.prod.website-files.com/65b8cd72835ceeacd4449a53/66dbab08dd607b08df5e1101_chain1.png)"
   ]
  },
  {
   "cell_type": "code",
   "execution_count": null,
   "id": "a55e2e80-a718-4aaf-99b9-371157b34a4b",
   "metadata": {},
   "outputs": [],
   "source": [
    "%%capture --no-stderr\n",
    "%pip install --quiet -U langchain_openai langchain_core langgraph"
   ]
  },
  {
   "cell_type": "markdown",
   "id": "ae5ac2d0-c7b0-4a20-86e5-4b6ed15ec20e",
   "metadata": {},
   "source": [
    "## Messages 消息\n",
    "\n",
    "聊天模型可以使用[`messages`](https://python.langchain.com/v0.2/docs/concepts/#messages)，以捕捉对话中的不同角色。\n",
    "\n",
    "LangChain 支持各种消息类型，包括`HumanMessage`, `AIMessage`, `SystemMessage` 和 `ToolMessage`. \n",
    "\n",
    "这些代表来自用户的消息、来自聊天模型的消息、用于聊天模型指导行为的消息以及来自工具调用的消息。\n",
    "\n",
    "让我们创建一个消息列表。\n",
    "\n",
    "每条消息都可以提供一些内容：\n",
    "\n",
    "* `content` - 消息内容\n",
    "* `name` - 可选，消息作者\n",
    "* `response_metadata` - 可选，元数据字典(e.g.,通常由模型提供者填充在`AIMessages`中)"
   ]
  },
  {
   "cell_type": "code",
   "execution_count": 4,
   "id": "866b5321-a238-4a9e-af9e-f11a131b5f11",
   "metadata": {},
   "outputs": [
    {
     "name": "stdout",
     "output_type": "stream",
     "text": [
      "================================\u001b[1m Human Message \u001b[0m=================================\n",
      "Name: Lance\n",
      "\n",
      "你好\n",
      "==================================\u001b[1m Ai Message \u001b[0m==================================\n",
      "Name: Assistant\n",
      "\n",
      "你好! 今天有什么我可以帮你的吗?\n",
      "================================\u001b[1m Human Message \u001b[0m=================================\n",
      "Name: Lance\n",
      "\n",
      "就请跟我聊聊天吧\n",
      "==================================\u001b[1m Ai Message \u001b[0m==================================\n",
      "Name: Assistant\n",
      "\n",
      "当然可以! 我已经准备好了。告诉我你的想法? 有没有你特别想讨论的话题，或者您只是在寻找随意的交谈？\n",
      "================================\u001b[1m Human Message \u001b[0m=================================\n",
      "Name: Lance\n",
      "\n",
      "请你帮我找个话题吧\n"
     ]
    }
   ],
   "source": [
    "from pprint import pprint\n",
    "from langchain_core.messages import AIMessage, HumanMessage\n",
    "\n",
    "messages = [HumanMessage(content=f\"你好\",name=\"Lance\")]\n",
    "messages.append(AIMessage(content=f\"你好! 今天有什么我可以帮你的吗?\", name=\"Assistant\"))\n",
    "messages.append(HumanMessage(content=f\"就请跟我聊聊天吧\", name=\"Lance\"))\n",
    "messages.append(AIMessage(content=f\"当然可以! 我已经准备好了。告诉我你的想法? 有没有你特别想讨论的话题，或者您只是在寻找随意的交谈？\", name=\"Assistant\"))\n",
    "messages.append(HumanMessage(content=f\"请你帮我找个话题吧\", name=\"Lance\"))\n",
    "\n",
    "for m in messages:\n",
    "    m.pretty_print()"
   ]
  },
  {
   "cell_type": "markdown",
   "id": "0ca48df0-b639-4ff1-a777-ffe2185d991e",
   "metadata": {},
   "source": [
    "## 聊天模型\n",
    "\n",
    "[聊天模型](https://python.langchain.com/v0.2/docs/concepts/#chat-models)可以使用一系列消息作为输入，并支持上述讨论的消息类型。\n",
    "\n",
    "有[很多](https://python.langchain.com/v0.2/docs/concepts/#chat-models)选择！我选择使用qwen的openai兼容接口。\n",
    "\n",
    "下边导入模型的配置"
   ]
  },
  {
   "cell_type": "code",
   "execution_count": 2,
   "id": "2652d5ec-7602-4220-bc6e-b90783ab287b",
   "metadata": {},
   "outputs": [],
   "source": [
    "# 官方的配置方式，由用户输入openai的api key，然后设置到环境变量\n",
    "import os, getpass\n",
    "\n",
    "def _set_env(var: str):\n",
    "    if not os.environ.get(var):\n",
    "        os.environ[var] = getpass.getpass(f\"{var}: \")\n",
    "\n",
    "_set_env(\"OPENAI_API_KEY\")"
   ]
  },
  {
   "cell_type": "code",
   "execution_count": 5,
   "id": "12ebc893",
   "metadata": {},
   "outputs": [],
   "source": [
    "# 我没有openai的api key，所以使用qwen的openai兼容接口，需要设置qwen的api key和base url，我选着从配置文件.yml中读取\n",
    "import yaml\n",
    "\n",
    "with open('../.yml', 'r') as file:\n",
    "    config = yaml.safe_load(file)\n",
    "\n",
    "# 获取配置信息(以.yml_example的例子)\n",
    "qwen_config = config['llm']['qwen']"
   ]
  },
  {
   "cell_type": "markdown",
   "id": "ceae53d4-14f5-4bf3-a953-cc465240f5b5",
   "metadata": {},
   "source": [
    "我们可以加载一个聊天模型，并用我们的消息列表调用它。\n",
    "\n",
    "我们可以看到结果是一个`AIMessage`并包含特定的`response_metadata`."
   ]
  },
  {
   "cell_type": "code",
   "execution_count": 6,
   "id": "95b99ad4-5753-49d3-a916-a9e949722c01",
   "metadata": {},
   "outputs": [
    {
     "data": {
      "text/plain": [
       "langchain_core.messages.ai.AIMessage"
      ]
     },
     "execution_count": 6,
     "metadata": {},
     "output_type": "execute_result"
    }
   ],
   "source": [
    "from langchain_openai import ChatOpenAI\n",
    "# 使用qwen的openai兼容接口，且没有用环境变量，这里直接通过参数设置\n",
    "llm = ChatOpenAI(api_key=qwen_config['api_key'],base_url=qwen_config['base_url'],model=\"qwen-max\")\n",
    "result = llm.invoke(messages)\n",
    "type(result)"
   ]
  },
  {
   "cell_type": "code",
   "execution_count": 7,
   "id": "88d60338-c892-4d04-a83f-878de4a76a6a",
   "metadata": {},
   "outputs": [
    {
     "data": {
      "text/plain": [
       "AIMessage(content='好的，那我们就来聊聊旅行吧！旅行是一个很有趣的话题。你最近有没有去过什么有趣的地方？或者有没有什么地方是你一直梦想去的？如果有机会的话，你是更喜欢自然风光的探险，还是更倾向于历史文化的城市游呢？', additional_kwargs={'refusal': None}, response_metadata={'token_usage': {'completion_tokens': 52, 'prompt_tokens': 80, 'total_tokens': 132, 'completion_tokens_details': None, 'prompt_tokens_details': {'audio_tokens': None, 'cached_tokens': 0}}, 'model_name': 'qwen-max', 'system_fingerprint': None, 'id': 'chatcmpl-2de4d43e-cabf-9427-b9a0-ecd5dbe9bc1a', 'finish_reason': 'stop', 'logprobs': None}, id='run-67fd5d14-1b8d-4a1e-8868-45443f75e165-0', usage_metadata={'input_tokens': 80, 'output_tokens': 52, 'total_tokens': 132, 'input_token_details': {'cache_read': 0}, 'output_token_details': {}})"
      ]
     },
     "execution_count": 7,
     "metadata": {},
     "output_type": "execute_result"
    }
   ],
   "source": [
    "result"
   ]
  },
  {
   "cell_type": "code",
   "execution_count": 8,
   "id": "c3a29654-6b8e-4eda-9cec-22fabb9b8620",
   "metadata": {},
   "outputs": [
    {
     "data": {
      "text/plain": [
       "{'token_usage': {'completion_tokens': 52,\n",
       "  'prompt_tokens': 80,\n",
       "  'total_tokens': 132,\n",
       "  'completion_tokens_details': None,\n",
       "  'prompt_tokens_details': {'audio_tokens': None, 'cached_tokens': 0}},\n",
       " 'model_name': 'qwen-max',\n",
       " 'system_fingerprint': None,\n",
       " 'id': 'chatcmpl-2de4d43e-cabf-9427-b9a0-ecd5dbe9bc1a',\n",
       " 'finish_reason': 'stop',\n",
       " 'logprobs': None}"
      ]
     },
     "execution_count": 8,
     "metadata": {},
     "output_type": "execute_result"
    }
   ],
   "source": [
    "result.response_metadata"
   ]
  },
  {
   "attachments": {},
   "cell_type": "markdown",
   "id": "4718bd5c-5314-4405-a164-f1fe912ae306",
   "metadata": {},
   "source": [
    "## 工具\n",
    "\n",
    "工具在您希望模型与外部系统交互时非常有用。\n",
    "\n",
    "外部系统（例如，API）通常需要特定的输入模式或有效载荷，而不是自然语言。\n",
    "\n",
    "例如，当我们将API绑定为一个工具时，我们给模型提供了对所需输入模式的认知。\n",
    "\n",
    "模型将根据用户的自然语言输入选择调用工具。\n",
    "\n",
    "并且，它将返回符合工具模式的输出。\n",
    "\n",
    "[许多LLM提供商支持工具调用](https://python.langchain.com/v0.1/docs/integrations/chat/)，并且LangChain中的[工具调用接口](https://blog.langchain.dev/improving-core-tool-interfaces-and-docs-in-langchain/)很简单\n",
    " \n",
    "您可以简单地传递任何 Python`function` 到 `ChatModel.bind_tools(function)`。\n",
    "\n",
    "![Screenshot 2024-08-19 at 7.46.28 PM.png](https://cdn.prod.website-files.com/65b8cd72835ceeacd4449a53/66dbab08dc1c17a7a57f9960_chain2.png)"
   ]
  },
  {
   "cell_type": "markdown",
   "id": "17a942b1",
   "metadata": {},
   "source": [
    "让我们展示一个工具调用的简单示例！\n",
    " \n",
    "`multiply`函数是我们的工具。"
   ]
  },
  {
   "cell_type": "code",
   "execution_count": 10,
   "id": "928faf56-1a1a-4c5f-b97d-bd64d8e166d1",
   "metadata": {},
   "outputs": [],
   "source": [
    "def multiply(a: int, b: int) -> int:\n",
    "    \"\"\"Multiply a and b.\n",
    "\n",
    "    Args:\n",
    "        a: first int\n",
    "        b: second int\n",
    "    \"\"\"\n",
    "    return a * b\n",
    "\n",
    "llm_with_tools = llm.bind_tools([multiply])"
   ]
  },
  {
   "cell_type": "markdown",
   "id": "8a3f9dba",
   "metadata": {},
   "source": [
    "如果我们传递一个输入，例如 `\"2乘以3等于几？\"`，我们会看到一个工具调用返回。\n",
    "工具调用具有特定的参数，这些参数与我们的函数输入模式相匹配，并包括要调用的函数名称。\n",
    "\n",
    "```\n",
    "{'arguments': '{\"a\":2,\"b\":3}', 'name': 'multiply'}\n",
    "```"
   ]
  },
  {
   "cell_type": "code",
   "execution_count": 11,
   "id": "9edbe13e-cc72-4685-ac97-2ebb4ceb2544",
   "metadata": {},
   "outputs": [],
   "source": [
    "tool_call = llm_with_tools.invoke([HumanMessage(content=f\"3乘以7等于几？\", name=\"Lance\")])"
   ]
  },
  {
   "cell_type": "code",
   "execution_count": 12,
   "id": "a78178cb-fa43-45b5-be5e-5a22bda5a5e7",
   "metadata": {},
   "outputs": [
    {
     "data": {
      "text/plain": [
       "[{'name': 'multiply',\n",
       "  'args': {'a': 3, 'b': 7},\n",
       "  'id': 'call_287b6a7e21974bd4bc870c',\n",
       "  'type': 'tool_call'}]"
      ]
     },
     "execution_count": 12,
     "metadata": {},
     "output_type": "execute_result"
    }
   ],
   "source": [
    "tool_call.tool_calls"
   ]
  },
  {
   "cell_type": "markdown",
   "id": "21c10f9a-2372-486b-9305-55b7c41ecd6e",
   "metadata": {},
   "source": [
    "## 使用消息作为状态\n",
    "\n",
    "在这些基础已经建立之后，我们现在可以在我们的图状态中使用[`messages`](https://python.langchain.com/v0.2/docs/concepts/#messages)\n",
    "\n",
    "让我们定义我们的状态，`MessagesState`为一个具有单个键（`messages`）的 `TypedDict`\n",
    "\n",
    "`messages` 简单来说就是上面定义的消息列表 (例如`HumanMessage`等)."
   ]
  },
  {
   "cell_type": "code",
   "execution_count": 1,
   "id": "3699dd5c-398c-43c7-b496-fd87e55e11ca",
   "metadata": {},
   "outputs": [],
   "source": [
    "from typing_extensions import TypedDict\n",
    "from langchain_core.messages import AnyMessage\n",
    "\n",
    "class MessagesState(TypedDict):\n",
    "    messages: list[AnyMessage]"
   ]
  },
  {
   "cell_type": "markdown",
   "id": "211cba3e-ebba-4b91-a539-1cbc28b4a40e",
   "metadata": {},
   "source": [
    "## Reducers 状态汇总函数，是langgraph 中用于指定状态更新方式的函数。\n",
    "\n",
    "现在，我们遇到了一个小问题！\n",
    "\n",
    "正如我们讨论的，每个节点将为我们的状态键`messages`返回一个新值。\n",
    "\n",
    "但是，这个新值将[覆盖](https://langchain-ai.github.io/langgraph/concepts/low_level/#reducers)之前的`messages`值。\n",
    " \n",
    "当我们的图运行时，我们希望将消息**追加**到我们的`messages`状态键中。\n",
    " \n",
    "我们可以使用[reducer函数](https://langchain-ai.github.io/langgraph/concepts/low_level/#reducers)来解决这个问题。\n",
    "\n",
    "Reducers允许我们指定状态更新的方式。\n",
    "\n",
    "如果没有指定 reducer 函数，则默认认为更新到键的值应该覆盖之前的值，就像我们之前看到的那样。\n",
    " \n",
    "但是，为了追加消息，我们可以使用预构建的`add_messages`状态汇总函数.\n",
    "\n",
    "这确保了任何消息都会追加到现有的消息列表中。\n",
    "\n",
    "我们只需将我们的`messages`键注解为`add_messages`状态汇总函数作为元数据即可。"
   ]
  },
  {
   "cell_type": "code",
   "execution_count": 8,
   "id": "6b33eb72-3197-4870-b9a3-0da8056c40c5",
   "metadata": {},
   "outputs": [],
   "source": [
    "from typing import Annotated\n",
    "from langgraph.graph.message import add_messages\n",
    "\n",
    "class MessagesState(TypedDict):\n",
    "    messages: Annotated[list[AnyMessage], add_messages]"
   ]
  },
  {
   "cell_type": "markdown",
   "id": "3663e574-ba15-46be-a37c-48c8052d693b",
   "metadata": {},
   "source": [
    "由于在图状态中拥有消息列表非常常见，LangGraph有预构建的[`MessagesState`](https://langchain-ai.github.io/langgraph/concepts/low_level/#messagesstate)! \n",
    "\n",
    "`MessagesState`被定义：\n",
    "\n",
    "* 使用预构建的单个`messages`键\n",
    "* 这是一个`AnyMessage`对象的列表 \n",
    "* 它使用`add_messages`状态汇总函数\n",
    "\n",
    "我们通常会使用`MessagesState`，因为它比定义自定义的`TypedDict`更简洁."
   ]
  },
  {
   "cell_type": "code",
   "execution_count": 2,
   "id": "9ab516ee-eab1-4856-8210-99f1fe499672",
   "metadata": {},
   "outputs": [],
   "source": [
    "from langgraph.graph import MessagesState\n",
    "\n",
    "class MessagesState(MessagesState):\n",
    "    # Add any keys needed beyond messages, which is pre-built \n",
    "    pass"
   ]
  },
  {
   "cell_type": "markdown",
   "id": "36b0fff7-60a2-4582-8f12-3a3ab6633d6c",
   "metadata": {},
   "source": [
    "深入一点，我们可以单独看看`add_messages`状态汇总函数是如何工作的。"
   ]
  },
  {
   "cell_type": "code",
   "execution_count": 9,
   "id": "23ffea76-16a5-4053-a1bc-91e0101d91dc",
   "metadata": {},
   "outputs": [
    {
     "data": {
      "text/plain": [
       "[AIMessage(content='Hello! How can I assist you?', additional_kwargs={}, response_metadata={}, name='Model', id='f6d2e57e-4326-40ed-a629-db52f7f8d9e0'),\n",
       " HumanMessage(content=\"I'm looking for information on marine biology.\", additional_kwargs={}, response_metadata={}, name='Lance', id='14f42350-1f6b-4826-ad22-f95affa89198'),\n",
       " AIMessage(content='Sure, I can help with that. What specifically are you interested in?', additional_kwargs={}, response_metadata={}, name='Model', id='40590bef-4369-4fae-9f76-b6e7c18094f9')]"
      ]
     },
     "execution_count": 9,
     "metadata": {},
     "output_type": "execute_result"
    }
   ],
   "source": [
    "# Initial state\n",
    "initial_messages = [AIMessage(content=\"Hello! How can I assist you?\", name=\"Model\"),\n",
    "                    HumanMessage(content=\"I'm looking for information on marine biology.\", name=\"Lance\")\n",
    "                   ]\n",
    "\n",
    "# New message to add\n",
    "new_message = AIMessage(content=\"Sure, I can help with that. What specifically are you interested in?\", name=\"Model\")\n",
    "\n",
    "# Test\n",
    "add_messages(initial_messages , new_message)"
   ]
  },
  {
   "cell_type": "markdown",
   "id": "485adccc-f262-49dd-af4f-a30e9b6a48e2",
   "metadata": {},
   "source": [
    "## 我们的图\n",
    "\n",
    "现在，让我们用一个图表来使用`MessagesState`"
   ]
  },
  {
   "cell_type": "code",
   "execution_count": 13,
   "id": "b5306639-7e6a-44be-8471-8d2631701cfb",
   "metadata": {},
   "outputs": [
    {
     "data": {
      "image/png": "[encoded data removed]",
      "text/plain": [
       "<IPython.core.display.Image object>"
      ]
     },
     "metadata": {},
     "output_type": "display_data"
    }
   ],
   "source": [
    "from IPython.display import Image, display\n",
    "from langgraph.graph import StateGraph, START, END\n",
    "    \n",
    "# Node\n",
    "def tool_calling_llm(state: MessagesState):\n",
    "    return {\"messages\": [llm_with_tools.invoke(state[\"messages\"])]}\n",
    "\n",
    "# Build graph\n",
    "builder = StateGraph(MessagesState)\n",
    "builder.add_node(\"tool_calling_llm\", tool_calling_llm)\n",
    "builder.add_edge(START, \"tool_calling_llm\")\n",
    "builder.add_edge(\"tool_calling_llm\", END)\n",
    "graph = builder.compile()\n",
    "\n",
    "# View\n",
    "display(Image(graph.get_graph().draw_mermaid_png()))"
   ]
  },
  {
   "cell_type": "markdown",
   "id": "e8909771-7786-47d6-a53d-6bbc3b365737",
   "metadata": {},
   "source": [
    "如果我们传入`Hello!`，LLM将无任何工具调用作出响应。"
   ]
  },
  {
   "cell_type": "code",
   "execution_count": 14,
   "id": "983e2487-c0a5-40a2-afbc-aa53ff49fefc",
   "metadata": {},
   "outputs": [
    {
     "name": "stdout",
     "output_type": "stream",
     "text": [
      "================================\u001b[1m Human Message \u001b[0m=================================\n",
      "\n",
      "Hello!\n",
      "==================================\u001b[1m Ai Message \u001b[0m==================================\n",
      "\n",
      "Hello! How can I assist you today?\n"
     ]
    }
   ],
   "source": [
    "messages = graph.invoke({\"messages\": HumanMessage(content=\"Hello!\")})\n",
    "for m in messages['messages']:\n",
    "    m.pretty_print()"
   ]
  },
  {
   "cell_type": "markdown",
   "id": "3588688b-efd9-4dbc-abf2-7903e3ef89ba",
   "metadata": {},
   "source": [
    "当LLM确定输入或任务需要该工具提供的功能时，会选择使用该工具。"
   ]
  },
  {
   "cell_type": "code",
   "execution_count": 15,
   "id": "7fe8b042-ecc8-426f-995e-cc1bbaf7cacc",
   "metadata": {},
   "outputs": [
    {
     "name": "stdout",
     "output_type": "stream",
     "text": [
      "================================\u001b[1m Human Message \u001b[0m=================================\n",
      "\n",
      "二乘八等于几？\n",
      "==================================\u001b[1m Ai Message \u001b[0m==================================\n",
      "Tool Calls:\n",
      "  multiply (call_7a3bf6c78e444dd8aedeb7)\n",
      " Call ID: call_7a3bf6c78e444dd8aedeb7\n",
      "  Args:\n",
      "    a: 2\n",
      "    b: 8\n"
     ]
    }
   ],
   "source": [
    "messages = graph.invoke({\"messages\": HumanMessage(content=\"二乘八等于几？\")})\n",
    "for m in messages['messages']:\n",
    "    m.pretty_print()"
   ]
  },
  {
   "cell_type": "code",
   "execution_count": null,
   "id": "311fbae3",
   "metadata": {},
   "outputs": [],
   "source": []
  }
 ],
 "metadata": {
  "kernelspec": {
   "display_name": "langchan-3.12",
   "language": "python",
   "name": "python3"
  },
  "language_info": {
   "codemirror_mode": {
    "name": "ipython",
    "version": 3
   },
   "file_extension": ".py",
   "mimetype": "text/x-python",
   "name": "python",
   "nbconvert_exporter": "python",
   "pygments_lexer": "ipython3",
   "version": "3.12.9"
  }
 },
 "nbformat": 4,
 "nbformat_minor": 5
}
