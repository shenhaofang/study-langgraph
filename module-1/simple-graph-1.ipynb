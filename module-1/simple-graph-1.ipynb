{
 "cells": [
  {
   "cell_type": "markdown",
   "id": "8d5f3703",
   "metadata": {},
   "source": [
    "[![Open in Colab](https://colab.research.google.com/assets/colab-badge.svg)](https://colab.research.google.com/github/langchain-ai/langchain-academy/blob/main/module-1/simple-graph.ipynb) [![Open in LangChain Academy](https://cdn.prod.website-files.com/65b8cd72835ceeacd4449a53/66e9eba12c7b7688aa3dbb5e_LCA-badge-green.svg)](https://academy.langchain.com/courses/take/intro-to-langgraph/lessons/58238187-lesson-2-simple-graph)"
   ]
  },
  {
   "attachments": {},
   "cell_type": "markdown",
   "id": "50fa7f8a-8764-4bb9-9968-48b681a0e4f1",
   "metadata": {},
   "source": [
    "# 简单的图\n",
    "\n",
    "让我们构建一个包含 3 个节点和一个条件边的简单图\n",
    "\n",
    "![Screenshot 2024-08-20 at 3.11.22 PM.png](https://cdn.prod.website-files.com/65b8cd72835ceeacd4449a53/66dba5f465f6e9a2482ad935_simple-graph1.png)"
   ]
  },
  {
   "cell_type": "code",
   "execution_count": 1,
   "id": "ff151ef1-fa30-482a-94da-8f49964afbc3",
   "metadata": {},
   "outputs": [],
   "source": [
    "%%capture --no-stderr\n",
    "%pip install --quiet -U langgraph"
   ]
  },
  {
   "cell_type": "markdown",
   "id": "5999f8d0-989f-4638-8ade-5c257cbadfe8",
   "metadata": {},
   "source": [
    "## 状态\n",
    "\n",
    "首先，定义图的[状态](https://langchain-ai.github.io/langgraph/concepts/low_level/#state)。\n",
    "\n",
    "状态结构是图中所有节点和边的输入结构。\n",
    "\n",
    "让我们使用python的`typing`模块中的`TypedDict`类作为我们的结构，它为键提供类型提示"
   ]
  },
  {
   "cell_type": "code",
   "execution_count": 1,
   "id": "6a90709b-ddfa-4671-8acc-c59969a29991",
   "metadata": {},
   "outputs": [],
   "source": [
    "from typing_extensions import TypedDict\n",
    "\n",
    "class State(TypedDict):\n",
    "    graph_state: str"
   ]
  },
  {
   "cell_type": "markdown",
   "id": "888509e1-cbde-4c03-99a0-2560dd2e262d",
   "metadata": {},
   "source": [
    "## 节点\n",
    "\n",
    "[节点](https://langchain-ai.github.io/langgraph/concepts/low_level/#nodes)只是 Python 函数。\n",
    "\n",
    "第一个位置参数是状态（如上面所定义）。\n",
    "\n",
    "因为状态是具有如上定义的结构的`TypedDict`结构，所以每个节点都可以通过`state['graph_state']`访问状态的键`graph_state`。\n",
    "\n",
    "每个节点返回状态键`graph_state`的新值。\n",
    "  \n",
    "默认情况下，每个节点返回的新值[将覆盖](https://langchain-ai.github.io/langgraph/concepts/low_level/#reducers) 先前的状态值。"
   ]
  },
  {
   "cell_type": "code",
   "execution_count": 2,
   "id": "e8aabcb7-494c-4d35-be08-f81c76d75a6b",
   "metadata": {},
   "outputs": [],
   "source": [
    "def node_1(state):\n",
    "    print(\"---Node 1---\")\n",
    "    return {\"graph_state\": state['graph_state'] +\" I am\"}\n",
    "\n",
    "def node_2(state):\n",
    "    print(\"---Node 2---\")\n",
    "    return {\"graph_state\": state['graph_state'] +\" happy!\"}\n",
    "\n",
    "def node_3(state):\n",
    "    print(\"---Node 3---\")\n",
    "    return {\"graph_state\": state['graph_state'] +\" sad!\"}"
   ]
  },
  {
   "cell_type": "markdown",
   "id": "ad056608-8c8f-4999-bb53-10583efa4ed8",
   "metadata": {},
   "source": [
    "## 边\n",
    "\n",
    "[边](https://langchain-ai.github.io/langgraph/concepts/low_level/#edges)连接节点。\n",
    "\n",
    "普通的边被用于当你想*始终固定*从一个节点出发到另一个节点的时候，例如从`node_1`到`node_2`。\n",
    "\n",
    "[条件边](https://langchain-ai.github.io/langgraph/concepts/low_level/#conditional-edges)被用于当你想*可选择的*在两个节点间路由的时候\n",
    " \n",
    "条件边被实现为根据某些逻辑返回要访问的下一个节点的函数。"
   ]
  },
  {
   "cell_type": "code",
   "execution_count": 3,
   "id": "7e53543a-902a-4d41-ad3d-25eee260e819",
   "metadata": {},
   "outputs": [],
   "source": [
    "import random\n",
    "from typing import Literal\n",
    "\n",
    "def decide_mood(state) -> Literal[\"node_2\", \"node_3\"]:\n",
    "    \n",
    "    # Often, we will use state to decide on the next node to visit\n",
    "    user_input = state['graph_state'] \n",
    "    \n",
    "    # Here, let's just do a 50 / 50 split between nodes 2, 3\n",
    "    if random.random() < 0.5:\n",
    "\n",
    "        # 50% of the time, we return Node 2\n",
    "        return \"node_2\"\n",
    "    \n",
    "    # 50% of the time, we return Node 3\n",
    "    return \"node_3\""
   ]
  },
  {
   "cell_type": "markdown",
   "id": "9282ea7a-5ed2-4641-bed8-c3472d54c951",
   "metadata": {},
   "source": [
    "## 图构建\n",
    "\n",
    "现在，我们根据上面定义的[组件](https://langchain-ai.github.io/langgraph/concepts/low_level/)来构建图\n",
    "\n",
    "[StateGraph class](https://langchain-ai.github.io/langgraph/concepts/low_level/#stategraph)类是我们可用的图类。\n",
    " \n",
    "首先，我们使用上面定义的`State`类初始化一个StateGraph。\n",
    " \n",
    "然后，我们添加我们的节点和边。\n",
    "\n",
    "我们使用[`START`节点，一个特殊节点](https://langchain-ai.github.io/langgraph/concepts/low_level/#start-node)可以将用户输入发送到图中, 来指示我们的图从哪里起始。\n",
    " \n",
    "[`END` 节点](https://langchain-ai.github.io/langgraph/concepts/low_level/#end-node)是一个表示终止节点的特殊节点。\n",
    "\n",
    "最后，我们[编译我们的图](https://langchain-ai.github.io/langgraph/concepts/low_level/#compiling-your-graph)对图结构进行一些基本检查。\n",
    "\n",
    "我们可以将图可视化为一个[Mermaid 图表](https://github.com/mermaid-js/mermaid)."
   ]
  },
  {
   "cell_type": "code",
   "execution_count": 4,
   "id": "7deb0359-55c1-4545-b52e-8252994befbb",
   "metadata": {},
   "outputs": [
    {
     "data": {
      "image/png": "[encoded data removed]",
      "text/plain": [
       "<IPython.core.display.Image object>"
      ]
     },
     "metadata": {},
     "output_type": "display_data"
    }
   ],
   "source": [
    "from IPython.display import Image, display\n",
    "from langgraph.graph import StateGraph, START, END\n",
    "\n",
    "# Build graph\n",
    "builder = StateGraph(State)\n",
    "builder.add_node(\"node_1\", node_1)\n",
    "builder.add_node(\"node_2\", node_2)\n",
    "builder.add_node(\"node_3\", node_3)\n",
    "\n",
    "# Logic\n",
    "builder.add_edge(START, \"node_1\")\n",
    "builder.add_conditional_edges(\"node_1\", decide_mood)\n",
    "builder.add_edge(\"node_2\", END)\n",
    "builder.add_edge(\"node_3\", END)\n",
    "\n",
    "# Add\n",
    "graph = builder.compile()\n",
    "\n",
    "# View\n",
    "display(Image(graph.get_graph().draw_mermaid_png()))"
   ]
  },
  {
   "cell_type": "markdown",
   "id": "00617c74-2647-44ea-8a2e-310dd96c0d26",
   "metadata": {},
   "source": [
    "## 图调用\n",
    "\n",
    "编译好的图实现了[runnable](https://python.langchain.com/docs/concepts/runnables/)协议.\n",
    "\n",
    "这为执行 LangChain 组件提供了一个标准方式。\n",
    " \n",
    "`invoke`是该接口中的标准方法之一。\n",
    "\n",
    "输入是一个字典 `{\"graph_state\": \"Hi, this is lance.\"}`，用于设置我们图状态（`State`）字典的初始值。\n",
    "\n",
    "当`invoke`被调用时，图从`START`节点开始执行。\n",
    "\n",
    "它按顺序(`node_1`, `node_2`, `node_3`)通过之前定义的节点\n",
    "\n",
    "条件边将根据 50/50 决策规则从节点`1`通过节点`2`或`3`。\n",
    "\n",
    "每个节点函数接收当前状态并返回一个新值，该值覆盖图状态。\n",
    "\n",
    "执行将继续，直到达到`END`节点。"
   ]
  },
  {
   "cell_type": "code",
   "execution_count": 9,
   "id": "e895f17a-e835-4e8a-8e1b-63fe6d27cc52",
   "metadata": {},
   "outputs": [
    {
     "name": "stdout",
     "output_type": "stream",
     "text": [
      "---Node 1---\n",
      "---Node 2---\n"
     ]
    },
    {
     "data": {
      "text/plain": [
       "{'graph_state': 'Hi, this is Lance. I am happy!'}"
      ]
     },
     "execution_count": 9,
     "metadata": {},
     "output_type": "execute_result"
    }
   ],
   "source": [
    "graph.invoke({\"graph_state\" : \"Hi, this is Lance.\"})"
   ]
  },
  {
   "cell_type": "markdown",
   "id": "082399c3-18bd-4b67-97c1-2005f268abc5",
   "metadata": {},
   "source": [
    "`invoke`同步的运行整个图\n",
    "\n",
    "就是等待每个步骤完成后再进行下一步。\n",
    "\n",
    "它返回所有节点执行完毕后的图最终状态。\n",
    "\n",
    "在这个例子中，它返回`node_3`完成后的状态：\n",
    "\n",
    "```\n",
    "{'graph_state': 'Hi, this is Lance. I am happy!'}\n",
    "```\n",
    "或（50%）\n",
    "\n",
    "```\n",
    "{'graph_state': 'Hi, this is Lance. I am sad!'}\n",
    "```"
   ]
  },
  {
   "cell_type": "code",
   "execution_count": null,
   "id": "db16ab8d-b817-4f3a-befc-a02b579c4fca",
   "metadata": {},
   "outputs": [],
   "source": []
  }
 ],
 "metadata": {
  "kernelspec": {
   "display_name": "langchan-3.12",
   "language": "python",
   "name": "python3"
  },
  "language_info": {
   "codemirror_mode": {
    "name": "ipython",
    "version": 3
   },
   "file_extension": ".py",
   "mimetype": "text/x-python",
   "name": "python",
   "nbconvert_exporter": "python",
   "pygments_lexer": "ipython3",
   "version": "3.12.9"
  }
 },
 "nbformat": 4,
 "nbformat_minor": 5
}
